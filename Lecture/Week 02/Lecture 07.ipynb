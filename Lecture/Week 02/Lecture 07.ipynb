{
 "cells": [
  {
   "cell_type": "markdown",
   "metadata": {},
   "source": [
    "# Arithmetic Operations"
   ]
  },
  {
   "cell_type": "code",
   "execution_count": 2,
   "metadata": {},
   "outputs": [
    {
     "name": "stdout",
     "output_type": "stream",
     "text": [
      "Addition: 15\n",
      "Subtraction: 5\n",
      "Multiplication: 50\n",
      "Division: 2.0\n"
     ]
    }
   ],
   "source": [
    "# Example 1: Basic arithmetic operations\n",
    "a = 10\n",
    "b = 5\n",
    "\n",
    "print(\"Addition:\", a + b)\n",
    "print(\"Subtraction:\", a - b)\n",
    "print(\"Multiplication:\", a * b)\n",
    "print(\"Division:\", a / b)\n"
   ]
  },
  {
   "cell_type": "code",
   "execution_count": 3,
   "metadata": {},
   "outputs": [
    {
     "name": "stdout",
     "output_type": "stream",
     "text": [
      "Exponentiation (a**b): 1000\n",
      "Modulus (a % b): 1\n"
     ]
    }
   ],
   "source": [
    "# Example 2: Exponentiation and Modulus\n",
    "a = 10\n",
    "b = 3\n",
    "\n",
    "print(\"Exponentiation (a**b):\", a ** b)\n",
    "print(\"Modulus (a % b):\", a % b)\n"
   ]
  },
  {
   "cell_type": "markdown",
   "metadata": {},
   "source": [
    "### Order of operations"
   ]
  },
  {
   "cell_type": "markdown",
   "metadata": {},
   "source": [
    "PEMDAS:\n",
    "The acronym PEMDAS stands for the order of operations in mathematical expressions:\n",
    "\n",
    "P: Parentheses first\n",
    "E: Exponentiation (powers, **)\n",
    "MD: Multiplication and Division (left to right)\n",
    "AS: Addition and Subtraction (left to right)"
   ]
  },
  {
   "cell_type": "code",
   "execution_count": 4,
   "metadata": {},
   "outputs": [
    {
     "name": "stdout",
     "output_type": "stream",
     "text": [
      "Result of the expression (3 + 2) * 4 ** 2 / 2: 40.0\n"
     ]
    }
   ],
   "source": [
    "# Example 3: Order of operations (PEMDAS)\n",
    "result = (3 + 2) * 4 ** 2 / 2\n",
    "print(\"Result of the expression (3 + 2) * 4 ** 2 / 2:\", result)\n"
   ]
  },
  {
   "cell_type": "code",
   "execution_count": 5,
   "metadata": {},
   "outputs": [
    {
     "name": "stdout",
     "output_type": "stream",
     "text": [
      "Total price with tax: 108.0\n"
     ]
    }
   ],
   "source": [
    "# Example 4: Complex calculation\n",
    "price = 100\n",
    "tax_rate = 0.08\n",
    "total_price = price + (price * tax_rate)\n",
    "print(\"Total price with tax:\", total_price)\n"
   ]
  },
  {
   "cell_type": "markdown",
   "metadata": {},
   "source": [
    "# Input and Output in Python"
   ]
  },
  {
   "cell_type": "code",
   "execution_count": 8,
   "metadata": {},
   "outputs": [
    {
     "name": "stdout",
     "output_type": "stream",
     "text": [
      "Hello, nabeel!\n"
     ]
    }
   ],
   "source": [
    "# Example 5: Simple Input and Output\n",
    "name = input(\"Enter your name: \")\n",
    "print(\"Hello, \" + name + \"!\")\n"
   ]
  },
  {
   "cell_type": "code",
   "execution_count": 42,
   "metadata": {},
   "outputs": [
    {
     "name": "stdout",
     "output_type": "stream",
     "text": [
      "Sum of the two numbers: 596\n"
     ]
    }
   ],
   "source": [
    "# Example 6: Taking multiple inputs from user\n",
    "num1 = input(\"Enter the first number: \")\n",
    "num2 = input(\"Enter the second number: \")\n",
    "\n",
    "sum_of_numbers = num1 + num2 # This will concatenate the two strings\n",
    "\n",
    "# Type Casting\n",
    "#sum_of_numbers = float(num1) + float(num2)\n",
    "print(\"Sum of the two numbers:\", sum_of_numbers)\n"
   ]
  },
  {
   "cell_type": "markdown",
   "metadata": {},
   "source": [
    "## Type Casting\n",
    "\n",
    "   - Anything input from console will be a string type of value"
   ]
  },
  {
   "cell_type": "code",
   "execution_count": 33,
   "metadata": {},
   "outputs": [
    {
     "name": "stdout",
     "output_type": "stream",
     "text": [
      "Hello nabeel, you are 32 years old.\n"
     ]
    }
   ],
   "source": [
    "# Example 7: Using formatted output for cleaner display\n",
    "name = input(\"Enter your name: \")\n",
    "age = input(\"Enter your age: \")\n",
    "\n",
    "print(f\"Hello {name}, you are {age} years old.\")\n"
   ]
  },
  {
   "cell_type": "code",
   "execution_count": 34,
   "metadata": {},
   "outputs": [
    {
     "data": {
      "text/plain": [
       "str"
      ]
     },
     "execution_count": 34,
     "metadata": {},
     "output_type": "execute_result"
    }
   ],
   "source": [
    "type(age)"
   ]
  },
  {
   "cell_type": "markdown",
   "metadata": {},
   "source": [
    "Implicit Type Casting: Done automatically by Python. <br>\n",
    "Explicit Type Casting: Done manually by the programmer using Python functions such as int(), float(), str(), etc."
   ]
  },
  {
   "cell_type": "markdown",
   "metadata": {},
   "source": [
    "### Implicit Type Casting "
   ]
  },
  {
   "cell_type": "code",
   "execution_count": 36,
   "metadata": {},
   "outputs": [
    {
     "name": "stdout",
     "output_type": "stream",
     "text": [
      "Data type of num_int: <class 'int'>\n",
      "Data type of num_float: <class 'float'>\n",
      "Data type of result: <class 'float'>\n",
      "Result: 8.2\n"
     ]
    }
   ],
   "source": [
    "# Example: Implicit Type Casting\n",
    "num_int = 5\n",
    "num_float = 3.2\n",
    "\n",
    "# Adding an integer and a float\n",
    "result = num_int + num_float\n",
    "\n",
    "print(\"Data type of num_int:\", type(num_int))  # int\n",
    "print(\"Data type of num_float:\", type(num_float))  # float\n",
    "print(\"Data type of result:\", type(result))  # float, implicitly casted\n",
    "print(\"Result:\", result)\n"
   ]
  },
  {
   "cell_type": "markdown",
   "metadata": {},
   "source": [
    "### Explicit Type Casting <br>\n",
    "\n",
    "int() : Converts a value to an integer. <br>\n",
    "float() : Converts a value to a float. <br>\n",
    "str() : Converts a value to a string. <br>"
   ]
  },
  {
   "cell_type": "code",
   "execution_count": 37,
   "metadata": {},
   "outputs": [
    {
     "name": "stdout",
     "output_type": "stream",
     "text": [
      "Float value: 9.8\n",
      "Integer value after casting: 9\n",
      "String value: 123\n",
      "Integer value after casting from string: 123\n"
     ]
    }
   ],
   "source": [
    "# Example: Explicit Type Casting\n",
    "# Converting a float to an integer\n",
    "num_float = 9.8\n",
    "num_int = int(num_float)  # Explicit conversion\n",
    "\n",
    "print(\"Float value:\", num_float)\n",
    "print(\"Integer value after casting:\", num_int)\n",
    "\n",
    "# Converting a string to an integer\n",
    "num_str = \"123\"\n",
    "num_int_from_str = int(num_str)  # Explicit conversion from string to int\n",
    "\n",
    "print(\"String value:\", num_str)\n",
    "print(\"Integer value after casting from string:\", num_int_from_str)\n"
   ]
  },
  {
   "cell_type": "markdown",
   "metadata": {},
   "source": [
    "Converting a string to an integer only works if the string contains numeric characters. If the string contains non-numeric characters, Python will throw an error."
   ]
  },
  {
   "cell_type": "code",
   "execution_count": 40,
   "metadata": {},
   "outputs": [
    {
     "name": "stdout",
     "output_type": "stream",
     "text": [
      "Integer value: 100\n",
      "String value after casting: 100\n"
     ]
    }
   ],
   "source": [
    "\n",
    "# Converting an integer to a string\n",
    "num = 100\n",
    "num_str = str(num)\n",
    "print(\"Integer value:\", num)\n",
    "print(\"String value after casting:\", num_str)\n",
    "\n",
    "# Converting a string with non-numeric characters to integer (throws error)\n",
    "invalid_str = \"abc123\"\n",
    "# Uncomment the line below to see the error:\n",
    "# num_invalid = int(invalid_str)  # This will raise a ValueError\n"
   ]
  },
  {
   "cell_type": "markdown",
   "metadata": {},
   "source": [
    "### Write a Python program that takes two inputs from the user: one integer and one string representing a number. The program should perform the following operations:\n",
    "\n",
    "- Convert the string input to an integer.\n",
    "- Add the two integers together.\n",
    "- Print the result of the addition."
   ]
  },
  {
   "cell_type": "code",
   "execution_count": 15,
   "metadata": {},
   "outputs": [
    {
     "name": "stdout",
     "output_type": "stream",
     "text": [
      "Hello nabeel, you are 32 years old.\n"
     ]
    }
   ],
   "source": [
    "# Using str.format()\n",
    "print(\"Hello {}, you are {} years old.\".format(name, age))\n"
   ]
  },
  {
   "cell_type": "code",
   "execution_count": 14,
   "metadata": {},
   "outputs": [
    {
     "name": "stdout",
     "output_type": "stream",
     "text": [
      "Hello nabeel, you are 32 years old.\n"
     ]
    }
   ],
   "source": [
    "# String Concatenation\n",
    "print(\"Hello \" + name + \", you are \" + str(age) + \" years old.\")\n"
   ]
  },
  {
   "cell_type": "markdown",
   "metadata": {},
   "source": [
    "## Task\n",
    "**Write a Python program that asks the user for two numbers and then prints the sum, product, and difference of the two numbers using formatted output.**"
   ]
  },
  {
   "cell_type": "markdown",
   "metadata": {},
   "source": [
    "# Data Science Example based on String Operations"
   ]
  },
  {
   "cell_type": "code",
   "execution_count": 19,
   "metadata": {},
   "outputs": [],
   "source": [
    "# Sample customer feedback dataset as lists\n",
    "customer_ids = [101, 102, 103, 104, 105]\n",
    "feedback = [\n",
    "    \"  Excellent service and fast delivery!!   \",\n",
    "    \"Horrible support, never ordering again...\",\n",
    "    \"Great quality but packaging was bad. \",\n",
    "    \"    Amazing product, will recommend.    \",\n",
    "    \"Not happy with the product!   \"\n",
    "]"
   ]
  },
  {
   "cell_type": "code",
   "execution_count": 20,
   "metadata": {},
   "outputs": [
    {
     "name": "stdout",
     "output_type": "stream",
     "text": [
      "Original Dataset:\n",
      "CustomerID: 101, Feedback:   Excellent service and fast delivery!!   \n",
      "CustomerID: 102, Feedback: Horrible support, never ordering again...\n",
      "CustomerID: 103, Feedback: Great quality but packaging was bad. \n",
      "CustomerID: 104, Feedback:     Amazing product, will recommend.    \n",
      "CustomerID: 105, Feedback: Not happy with the product!   \n"
     ]
    }
   ],
   "source": [
    "# Display the original dataset\n",
    "print(\"Original Dataset:\")\n",
    "for i in range(len(feedback)):\n",
    "    print(f\"CustomerID: {customer_ids[i]}, Feedback: {feedback[i]}\")"
   ]
  },
  {
   "cell_type": "markdown",
   "metadata": {},
   "source": [
    "### ----------------------- STRING OPERATIONS -----------------------"
   ]
  },
  {
   "cell_type": "code",
   "execution_count": 21,
   "metadata": {},
   "outputs": [],
   "source": [
    "# Step 1: Strip extra spaces around the feedback\n",
    "feedback = [fb.strip() for fb in feedback]"
   ]
  },
  {
   "cell_type": "code",
   "execution_count": 22,
   "metadata": {},
   "outputs": [],
   "source": [
    "# Step 2: Convert all feedback to lowercase\n",
    "feedback = [fb.lower() for fb in feedback]"
   ]
  },
  {
   "cell_type": "code",
   "execution_count": 23,
   "metadata": {},
   "outputs": [],
   "source": [
    "# Step 3: Remove special characters (keeping only letters, numbers, and spaces)\n",
    "import re\n",
    "feedback = [re.sub(r'[^a-zA-Z0-9\\s]', '', fb) for fb in feedback]\n"
   ]
  },
  {
   "cell_type": "code",
   "execution_count": 32,
   "metadata": {},
   "outputs": [],
   "source": [
    "\n",
    "# Step 4: Check if the feedback contains certain keywords (e.g., 'good', 'bad')\n",
    "\n",
    "#contains_good = ['good' in fb for fb in feedback]\n",
    "\n",
    "contains_good = ['good' in fb or 'excellent' in fb for fb in feedback]\n",
    "\n",
    "\n",
    "contains_bad = ['bad' in fb for fb in feedback]\n"
   ]
  },
  {
   "cell_type": "code",
   "execution_count": 31,
   "metadata": {},
   "outputs": [
    {
     "name": "stdout",
     "output_type": "stream",
     "text": [
      "\n",
      "Cleaned Dataset:\n",
      "CustomerID: 101, Feedback: excellent service and fast delivery, Contains 'good': True, Contains 'bad': False\n",
      "CustomerID: 102, Feedback: horrible support never ordering again, Contains 'good': False, Contains 'bad': False\n",
      "CustomerID: 103, Feedback: great quality but packaging was bad, Contains 'good': False, Contains 'bad': True\n",
      "CustomerID: 104, Feedback: amazing product will recommend, Contains 'good': False, Contains 'bad': False\n",
      "CustomerID: 105, Feedback: not happy with the product, Contains 'good': False, Contains 'bad': False\n"
     ]
    }
   ],
   "source": [
    "\n",
    "# Display the cleaned dataset\n",
    "print(\"\\nCleaned Dataset:\")\n",
    "for i in range(len(feedback)):\n",
    "    print(f\"CustomerID: {customer_ids[i]}, Feedback: {feedback[i]}, Contains 'good': {contains_good[i]}, Contains 'bad': {contains_bad[i]}\")"
   ]
  },
  {
   "cell_type": "code",
   "execution_count": null,
   "metadata": {},
   "outputs": [],
   "source": []
  }
 ],
 "metadata": {
  "kernelspec": {
   "display_name": "Python 3",
   "language": "python",
   "name": "python3"
  },
  "language_info": {
   "codemirror_mode": {
    "name": "ipython",
    "version": 3
   },
   "file_extension": ".py",
   "mimetype": "text/x-python",
   "name": "python",
   "nbconvert_exporter": "python",
   "pygments_lexer": "ipython3",
   "version": "3.12.2"
  }
 },
 "nbformat": 4,
 "nbformat_minor": 2
}
