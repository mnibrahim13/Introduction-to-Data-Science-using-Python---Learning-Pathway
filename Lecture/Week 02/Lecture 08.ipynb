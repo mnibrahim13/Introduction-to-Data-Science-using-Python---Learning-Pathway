{
 "cells": [
  {
   "cell_type": "markdown",
   "metadata": {},
   "source": [
    "# Accessing a Specific Digit from a Number\n",
    "\n",
    "- Ask the user to input a number (first number)\n",
    "- Ask the user to input another numbger, which will be trated as specific digit from first number\n",
    "- Print the digit of (first number) at the specified number (second number)"
   ]
  },
  {
   "cell_type": "markdown",
   "metadata": {},
   "source": [
    "# Some tricks"
   ]
  },
  {
   "cell_type": "code",
   "execution_count": 13,
   "metadata": {},
   "outputs": [
    {
     "data": {
      "text/plain": [
       "0"
      ]
     },
     "execution_count": 13,
     "metadata": {},
     "output_type": "execute_result"
    }
   ],
   "source": [
    "# to get the last digit of a number\n",
    "# if we take modulus with 10 itwill return last digit\n",
    "13235465760%10"
   ]
  },
  {
   "cell_type": "code",
   "execution_count": 14,
   "metadata": {},
   "outputs": [
    {
     "data": {
      "text/plain": [
       "69"
      ]
     },
     "execution_count": 14,
     "metadata": {},
     "output_type": "execute_result"
    }
   ],
   "source": [
    "# to get the last two digits of a number\n",
    "# if we take modulus with 100 it will return last two digits\n",
    "13235465769%100"
   ]
  },
  {
   "cell_type": "code",
   "execution_count": 2,
   "metadata": {},
   "outputs": [
    {
     "name": "stdout",
     "output_type": "stream",
     "text": [
      "Hello Nabeel, you are 32 years old.\n"
     ]
    }
   ],
   "source": [
    "# Using str.format()\n",
    "name = \"Nabeel\"\n",
    "age = \"32\"\n",
    "print(\"Hello {}, you are {} years old.\".format(name, age))\n"
   ]
  },
  {
   "cell_type": "code",
   "execution_count": 3,
   "metadata": {},
   "outputs": [
    {
     "name": "stdout",
     "output_type": "stream",
     "text": [
      "Hello Nabeel, you are 32 years old.\n"
     ]
    }
   ],
   "source": [
    "# String Concatenation\n",
    "print(\"Hello \" + name + \", you are \" + str(age) + \" years old.\")"
   ]
  },
  {
   "cell_type": "code",
   "execution_count": 4,
   "metadata": {},
   "outputs": [
    {
     "name": "stdout",
     "output_type": "stream",
     "text": [
      "Hello Nabeel, you are 32 years old.\n"
     ]
    }
   ],
   "source": [
    "print(f\"Hello {name}, you are {age} years old.\")"
   ]
  },
  {
   "cell_type": "markdown",
   "metadata": {},
   "source": [
    "# Conditional statments \n",
    "- if statement\n",
    "- if else\n",
    "- elif \n",
    "         "
   ]
  },
  {
   "cell_type": "code",
   "execution_count": 1,
   "metadata": {},
   "outputs": [
    {
     "name": "stdout",
     "output_type": "stream",
     "text": [
      "Num1 is not greater than num2\n"
     ]
    }
   ],
   "source": [
    "num1 = int(input(\"Enter a number\"))\n",
    "num2 = int(input(\"Eneter another number\"))\n",
    "\n",
    "if  num1 > num2:\n",
    "    print(\"Num1 is greater than num2\")\n",
    "    \n",
    "else:\n",
    "    print(\"Num1 is not greater than num2\")"
   ]
  },
  {
   "cell_type": "code",
   "execution_count": 17,
   "metadata": {},
   "outputs": [
    {
     "name": "stdout",
     "output_type": "stream",
     "text": [
      "Ok\n"
     ]
    }
   ],
   "source": [
    "# Ask the user to input their username\n",
    "username = input(\"Enter username (less then 10 characters): \")\n",
    "\n",
    "# Check if the length of the username is greater than 10\n",
    "if len(username) > 10:\n",
    "    # If the username length is greater than 10, print \"Bigname\"\n",
    "    print(\"Too Large\")\n",
    "else:\n",
    "    # If the username length is 10 or less, print \"ok\"\n",
    "    print(\"Ok\")\n",
    "\n",
    "    \n",
    "\n"
   ]
  },
  {
   "cell_type": "code",
   "execution_count": 19,
   "metadata": {},
   "outputs": [
    {
     "name": "stdout",
     "output_type": "stream",
     "text": [
      "Ok\n"
     ]
    }
   ],
   "source": [
    "# This code checks the length of the user's input in a single line.\n",
    "# If the input length is greater than 10, it prints \"Too big\".\n",
    "# Otherwise, it prints \"Ok\".\n",
    "print(\"Too big\" if len(input()) > 10 else \"Ok\")\n"
   ]
  },
  {
   "cell_type": "code",
   "execution_count": 22,
   "metadata": {},
   "outputs": [
    {
     "name": "stdout",
     "output_type": "stream",
     "text": [
      "You guessed 5, but the lucky number was 2. Try Again.\n"
     ]
    }
   ],
   "source": [
    "# Import the random module to generate a random number\n",
    "import random\n",
    "\n",
    "# Ask the user to input their guess and convert it to an integer\n",
    "guess = int(input(\"Enter your guess number 1-10: \"))\n",
    "\n",
    "# Generate a random number between 1 and 10 using random.randint\n",
    "lucky_number = random.randint(1, 10)\n",
    "\n",
    "# Check if the user's guess matches the random number\n",
    "if guess == lucky_number:\n",
    "    # If the guess is correct, print a winning message with the guessed number\n",
    "    print(f\"You guessed {guess}. You win!\")\n",
    "else:\n",
    "    # If the guess is incorrect, print a message showing the guessed number and the correct number\n",
    "    print(f\"You guessed {guess}, but the lucky number was {lucky_number}. Try Again.\")\n"
   ]
  },
  {
   "cell_type": "code",
   "execution_count": 28,
   "metadata": {},
   "outputs": [
    {
     "name": "stdout",
     "output_type": "stream",
     "text": [
      "Tall man\n"
     ]
    }
   ],
   "source": [
    "# Step 1: Ask the user to input their height (in any unit, e.g., feet, meters) and convert it to a float\n",
    "height = float(input(\"Enter a number for height(ft): \"))\n",
    "\n",
    "# Step 2: Check the height to categorize it into 'Tall', 'Average', or 'Short'\n",
    "# If height is greater than 6, print \"Tall man\"\n",
    "if height > 6:\n",
    "    print(\"Tall man\")\n",
    "# Else if height is greater than 5 but less than or equal to 6, print \"Average\"\n",
    "elif height > 5:\n",
    "    print('Average')\n",
    "# Else, if height is less than or equal to 5, print \"Short\"\n",
    "else:\n",
    "    print(\"Short\")"
   ]
  },
  {
   "cell_type": "markdown",
   "metadata": {},
   "source": [
    "## Task for Students: Budget-Based Decision Making\n",
    "\n",
    "Write a Python program that performs the following steps:\n",
    "\n",
    "- Ask the user to input their budget.\n",
    "- If the budget is more than 1000, print \"Mutton\" (indicating the user can afford 1 kg of meat).\n",
    "- If the budget is more than 500 but less than or equal to 1000, print \"Eggs\" (indicating the user can afford 12 eggs).\n",
    "- If the budget is 500 or less, print \"keep fast\" "
   ]
  },
  {
   "cell_type": "markdown",
   "metadata": {},
   "source": [
    "# Introduction to Python Collections\n",
    "Python provides four main types of collections (data structures) that are widely used to store and manipulate groups of data:\n",
    "\n",
    "- List: Ordered, changeable, allows duplicate elements.\n",
    "- Tuple: Ordered, unchangeable (immutable), allows duplicate elements.\n",
    "- Set: Unordered, no duplicates allowed.\n",
    "- Dictionary: Unordered, changeable, no duplicates, stores key-value pairs."
   ]
  },
  {
   "cell_type": "markdown",
   "metadata": {},
   "source": [
    "## List:\n",
    "\n",
    "- Ordered: The items have a defined order.\n",
    "- Changeable: We can add, remove, and change list items.\n",
    "- Allows duplicates: Lists can have items with the same value."
   ]
  },
  {
   "cell_type": "markdown",
   "metadata": {},
   "source": []
  },
  {
   "cell_type": "code",
   "execution_count": 41,
   "metadata": {},
   "outputs": [
    {
     "name": "stdout",
     "output_type": "stream",
     "text": [
      "['Apple', 'Sharifa', 'Mango', 'Cherry', 'Banana']\n"
     ]
    }
   ],
   "source": [
    "# Example of a list\n",
    "fruits = ['Apple', 'Sharifa', 'Mango','Cherry','Banana']\n",
    "print(fruits)\n"
   ]
  },
  {
   "cell_type": "code",
   "execution_count": 42,
   "metadata": {},
   "outputs": [
    {
     "name": "stdout",
     "output_type": "stream",
     "text": [
      "<class 'list'>\n"
     ]
    }
   ],
   "source": [
    "print(type(fruits))"
   ]
  },
  {
   "cell_type": "code",
   "execution_count": 43,
   "metadata": {},
   "outputs": [],
   "source": [
    "# index     0         1           2       3          4       5\n",
    "#fruits = ['Apple', 'Sharifa', 'Mango','Cherry','Banana',\"Zarifa\"]\n",
    "# -ve       -6        -5       -4         -3      -2       -1"
   ]
  },
  {
   "cell_type": "code",
   "execution_count": 44,
   "metadata": {},
   "outputs": [
    {
     "name": "stdout",
     "output_type": "stream",
     "text": [
      "Apple\n"
     ]
    }
   ],
   "source": [
    "# Accessing the first item\n",
    "print(fruits[0])  # Output: apple\n"
   ]
  },
  {
   "cell_type": "code",
   "execution_count": 45,
   "metadata": {},
   "outputs": [
    {
     "name": "stdout",
     "output_type": "stream",
     "text": [
      "['Apple', 'blueberry', 'Mango', 'Cherry', 'Banana']\n"
     ]
    }
   ],
   "source": [
    "# Changing the second item\n",
    "fruits[1] = \"blueberry\"\n",
    "print(fruits)  # Output: ['apple', 'blueberry', 'cherry']\n"
   ]
  },
  {
   "cell_type": "code",
   "execution_count": 46,
   "metadata": {},
   "outputs": [
    {
     "data": {
      "text/plain": [
       "['Apple', 'blueberry', 'Mango', 'Cherry', 'Banana', 'orange']"
      ]
     },
     "execution_count": 46,
     "metadata": {},
     "output_type": "execute_result"
    }
   ],
   "source": [
    "fruits.append(\"orange\")  # Adds 'orange' to the end\n",
    "fruits\n"
   ]
  },
  {
   "cell_type": "code",
   "execution_count": 48,
   "metadata": {},
   "outputs": [
    {
     "data": {
      "text/plain": [
       "['Apple', 'blueberry', 'Mango', 'Cherry', 'Banana', 'orange']"
      ]
     },
     "execution_count": 48,
     "metadata": {},
     "output_type": "execute_result"
    }
   ],
   "source": [
    "fruits"
   ]
  },
  {
   "cell_type": "code",
   "execution_count": 49,
   "metadata": {},
   "outputs": [],
   "source": [
    "# Create\n",
    "# Retrieve\n",
    "# Update \n",
    "# Delete\n",
    "# Slice "
   ]
  },
  {
   "cell_type": "code",
   "execution_count": 50,
   "metadata": {},
   "outputs": [],
   "source": [
    "empty_list = []"
   ]
  },
  {
   "cell_type": "code",
   "execution_count": 51,
   "metadata": {},
   "outputs": [
    {
     "data": {
      "text/plain": [
       "6"
      ]
     },
     "execution_count": 51,
     "metadata": {},
     "output_type": "execute_result"
    }
   ],
   "source": [
    "len(fruits)"
   ]
  },
  {
   "cell_type": "code",
   "execution_count": 52,
   "metadata": {},
   "outputs": [
    {
     "data": {
      "text/plain": [
       "0"
      ]
     },
     "execution_count": 52,
     "metadata": {},
     "output_type": "execute_result"
    }
   ],
   "source": [
    "len(empty_list)"
   ]
  },
  {
   "cell_type": "markdown",
   "metadata": {},
   "source": [
    "the min() function returns the smallest element in an iterable (like a list)"
   ]
  },
  {
   "cell_type": "markdown",
   "metadata": {},
   "source": [
    "In Python, 'A' is considered smaller than 'a'"
   ]
  },
  {
   "cell_type": "code",
   "execution_count": 54,
   "metadata": {},
   "outputs": [
    {
     "data": {
      "text/plain": [
       "65"
      ]
     },
     "execution_count": 54,
     "metadata": {},
     "output_type": "execute_result"
    }
   ],
   "source": [
    "ord('A')"
   ]
  },
  {
   "cell_type": "code",
   "execution_count": 55,
   "metadata": {},
   "outputs": [
    {
     "data": {
      "text/plain": [
       "97"
      ]
     },
     "execution_count": 55,
     "metadata": {},
     "output_type": "execute_result"
    }
   ],
   "source": [
    "ord('a')"
   ]
  },
  {
   "cell_type": "markdown",
   "metadata": {},
   "source": [
    "The min() function will compare these strings lexicographically based on their first letter.\n",
    "- 'Apple' starts with an uppercase 'A'.\n",
    "- 'Sharifa' starts with an uppercase 'S'.\n",
    "- 'Mango' starts with an uppercase 'M'.\n",
    "- 'Cherry' starts with an uppercase 'C'.\n",
    "- 'Banana' starts with an uppercase 'B'."
   ]
  },
  {
   "cell_type": "code",
   "execution_count": 53,
   "metadata": {},
   "outputs": [
    {
     "data": {
      "text/plain": [
       "'Apple'"
      ]
     },
     "execution_count": 53,
     "metadata": {},
     "output_type": "execute_result"
    }
   ],
   "source": [
    "min(fruits)"
   ]
  },
  {
   "cell_type": "code",
   "execution_count": 56,
   "metadata": {},
   "outputs": [
    {
     "data": {
      "text/plain": [
       "'Mango'"
      ]
     },
     "execution_count": 56,
     "metadata": {},
     "output_type": "execute_result"
    }
   ],
   "source": [
    "fruits[2]"
   ]
  },
  {
   "cell_type": "code",
   "execution_count": 57,
   "metadata": {},
   "outputs": [
    {
     "data": {
      "text/plain": [
       "'Mango'"
      ]
     },
     "execution_count": 57,
     "metadata": {},
     "output_type": "execute_result"
    }
   ],
   "source": [
    "fruits[-4]"
   ]
  },
  {
   "cell_type": "code",
   "execution_count": 58,
   "metadata": {},
   "outputs": [
    {
     "data": {
      "text/plain": [
       "['Apple', 'blueberry', 'Mango', 'Cherry', 'Banana', 'WaterMelon']"
      ]
     },
     "execution_count": 58,
     "metadata": {},
     "output_type": "execute_result"
    }
   ],
   "source": [
    "fruits[-1] = \"WaterMelon\"\n",
    "fruits"
   ]
  },
  {
   "cell_type": "markdown",
   "metadata": {},
   "source": [
    "### Adding more items in existing list\n",
    "    - append()\n",
    "    - insert()\n",
    "    -  + \n",
    "    - extend()"
   ]
  },
  {
   "cell_type": "code",
   "execution_count": 59,
   "metadata": {},
   "outputs": [
    {
     "data": {
      "text/plain": [
       "[]"
      ]
     },
     "execution_count": 59,
     "metadata": {},
     "output_type": "execute_result"
    }
   ],
   "source": [
    "empty_list"
   ]
  },
  {
   "cell_type": "code",
   "execution_count": 60,
   "metadata": {},
   "outputs": [
    {
     "name": "stdout",
     "output_type": "stream",
     "text": [
      "['Laptops']\n"
     ]
    }
   ],
   "source": [
    "# append()\n",
    "# it adds new item on very last index (tail of list)\n",
    "# it add one item at a time\n",
    "\n",
    "empty_list.append(\"Laptops\")\n",
    "print(empty_list)"
   ]
  },
  {
   "cell_type": "code",
   "execution_count": 61,
   "metadata": {},
   "outputs": [
    {
     "data": {
      "text/plain": [
       "['Laptops', 200000]"
      ]
     },
     "execution_count": 61,
     "metadata": {},
     "output_type": "execute_result"
    }
   ],
   "source": [
    "empty_list.append(200000)\n",
    "empty_list"
   ]
  },
  {
   "cell_type": "code",
   "execution_count": 62,
   "metadata": {},
   "outputs": [
    {
     "data": {
      "text/plain": [
       "['Laptops', 200000, 'Keybords']"
      ]
     },
     "execution_count": 62,
     "metadata": {},
     "output_type": "execute_result"
    }
   ],
   "source": [
    "# we can add new item in existing list using insert function\n",
    "# insert function takes two arguments position and value\n",
    "\n",
    "empty_list.insert(2,\"Keybords\")\n",
    "empty_list"
   ]
  },
  {
   "cell_type": "code",
   "execution_count": 63,
   "metadata": {},
   "outputs": [
    {
     "data": {
      "text/plain": [
       "['Laptops', 200000, 'Keybords', 'Projectors']"
      ]
     },
     "execution_count": 63,
     "metadata": {},
     "output_type": "execute_result"
    }
   ],
   "source": [
    "# adding a value on NON EXISTING index will add the value at very LAST index\n",
    "empty_list.insert(12,\"Projectors\")\n",
    "empty_list"
   ]
  },
  {
   "cell_type": "code",
   "execution_count": 65,
   "metadata": {},
   "outputs": [
    {
     "data": {
      "text/plain": [
       "'Projectors'"
      ]
     },
     "execution_count": 65,
     "metadata": {},
     "output_type": "execute_result"
    }
   ],
   "source": [
    "empty_list[3]"
   ]
  },
  {
   "cell_type": "code",
   "execution_count": 67,
   "metadata": {},
   "outputs": [
    {
     "data": {
      "text/plain": [
       "['Laptops', 'Mouse', 'Mouse', 200000, 'Keybords', 'Projectors']"
      ]
     },
     "execution_count": 67,
     "metadata": {},
     "output_type": "execute_result"
    }
   ],
   "source": [
    "# adding a value on Already EXISTING index will add the value at the said position and will move the values further\n",
    "empty_list.insert(1,\"Mouse\")\n",
    "empty_list"
   ]
  },
  {
   "cell_type": "code",
   "execution_count": 72,
   "metadata": {},
   "outputs": [
    {
     "data": {
      "text/plain": [
       "[[1, 2, 3, 4, 5], 6, 7, 8, 9, 10]"
      ]
     },
     "execution_count": 72,
     "metadata": {},
     "output_type": "execute_result"
    }
   ],
   "source": [
    "## Create two sample lists\n",
    "list1 = [1, 2, 3, 4, 5]\n",
    "list2 = [6, 7, 8, 9, 10]\n",
    "\n",
    "# use extend() to add elements of list2 at the end of list1 but create new list\n",
    "list3 = []\n",
    "list3.append(list1)\n",
    "list3.extend(list2)\n",
    "list3"
   ]
  },
  {
   "cell_type": "code",
   "execution_count": 74,
   "metadata": {},
   "outputs": [
    {
     "data": {
      "text/plain": [
       "[1, 2, 3, 4, 5]"
      ]
     },
     "execution_count": 74,
     "metadata": {},
     "output_type": "execute_result"
    }
   ],
   "source": [
    "list3[0]"
   ]
  },
  {
   "cell_type": "code",
   "execution_count": 75,
   "metadata": {},
   "outputs": [
    {
     "data": {
      "text/plain": [
       "[1, 2, 3, 4, 5, 6, 7, 8, 9, 10]"
      ]
     },
     "execution_count": 75,
     "metadata": {},
     "output_type": "execute_result"
    }
   ],
   "source": [
    "# Correct way to do it will be concatenation\n",
    "\n",
    "list4 = list1 + list2\n",
    "list4"
   ]
  },
  {
   "cell_type": "markdown",
   "metadata": {},
   "source": [
    "### Deleting items from a list\n",
    "   - del \n",
    "   - pop() \n",
    "   - remove()\n",
    "   - clear()\n",
    "   "
   ]
  },
  {
   "cell_type": "code",
   "execution_count": 76,
   "metadata": {},
   "outputs": [
    {
     "name": "stdout",
     "output_type": "stream",
     "text": [
      "['apple', 'banana', 'cherry', 'date', 'elderberry']\n",
      "['apple', 'banana', 'date', 'elderberry']\n"
     ]
    }
   ],
   "source": [
    "# Explain del()\n",
    "\n",
    "# del() is a keyword in Python that is used to delete an item from a list or remove a variable from the local or global namespace.\n",
    "\n",
    "# Example 1: Deleting an item from a list\n",
    "# Create a list of fruits\n",
    "fruits = ['apple', 'banana', 'cherry', 'date', 'elderberry']\n",
    "\n",
    "# Print the list before deleting an item\n",
    "print(fruits)\n",
    "\n",
    "# Delete the item at index 2\n",
    "del fruits[2]\n",
    "\n",
    "# Print the list after deleting an item\n",
    "print(fruits)"
   ]
  },
  {
   "cell_type": "code",
   "execution_count": null,
   "metadata": {},
   "outputs": [],
   "source": []
  }
 ],
 "metadata": {
  "kernelspec": {
   "display_name": "Python 3",
   "language": "python",
   "name": "python3"
  },
  "language_info": {
   "codemirror_mode": {
    "name": "ipython",
    "version": 3
   },
   "file_extension": ".py",
   "mimetype": "text/x-python",
   "name": "python",
   "nbconvert_exporter": "python",
   "pygments_lexer": "ipython3",
   "version": "3.12.2"
  }
 },
 "nbformat": 4,
 "nbformat_minor": 2
}
