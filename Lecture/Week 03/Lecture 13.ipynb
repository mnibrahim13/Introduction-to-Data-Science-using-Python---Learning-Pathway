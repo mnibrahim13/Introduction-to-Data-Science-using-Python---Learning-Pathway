{
 "cells": [
  {
   "cell_type": "markdown",
   "metadata": {},
   "source": [
    "Task: Keep on asking Guest names until a special char is taken e.g. 'Q'. Save all guest names and print at the end of program"
   ]
  },
  {
   "cell_type": "code",
   "execution_count": 1,
   "metadata": {},
   "outputs": [
    {
     "data": {
      "text/plain": [
       "['Nabeel', 'Ibrahim']"
      ]
     },
     "execution_count": 1,
     "metadata": {},
     "output_type": "execute_result"
    }
   ],
   "source": [
    "guests = []\n",
    "while True:\n",
    "    guest = input(\"Enter Guest name or Q to quit: \")\n",
    "    if guest == \"Q\":\n",
    "        break\n",
    "    else:\n",
    "        guests.append(guest)\n",
    "guests"
   ]
  },
  {
   "cell_type": "code",
   "execution_count": 2,
   "metadata": {},
   "outputs": [
    {
     "name": "stdout",
     "output_type": "stream",
     "text": [
      "You order amount is 300\n",
      "You order amount is 400\n",
      "['rice', 'choclate'] your order amount exceeds order limit of 1000\n"
     ]
    }
   ],
   "source": [
    "store_items = {\"rice\":300, \"oil\":500,\"water\":100, \"choclate\":100, \"fairnlovely\":200}\n",
    "orderItem = []\n",
    "sum = 0\n",
    "\n",
    "while True:\n",
    "    order = input(\"Enter order item or q to quit: \").lower()\n",
    "    if order == 'q':\n",
    "        break\n",
    "    elif order not in store_items.keys():\n",
    "        print(f\"{order} item not in store: \")\n",
    "        continue\n",
    "    else:\n",
    "        if(sum>=1000):\n",
    "                break\n",
    "        else:\n",
    "            sum += store_items[order]\n",
    "            print(f\"You order amount is {sum}\")\n",
    "            orderItem.append(order)\n",
    "print(f\"{orderItem} your order amount exceeds order limit of 1000\")"
   ]
  },
  {
   "cell_type": "markdown",
   "metadata": {},
   "source": [
    "# Functions\n"
   ]
  },
  {
   "cell_type": "markdown",
   "metadata": {},
   "source": [
    "Functions are a fundamental building block in Python. They allow us to organize and reuse blocks of code efficiently. A function is a block of organized, reusable code that is used to perform a single, related action."
   ]
  },
  {
   "cell_type": "markdown",
   "metadata": {},
   "source": [
    "### Defining and Calling a Function"
   ]
  },
  {
   "cell_type": "code",
   "execution_count": 3,
   "metadata": {},
   "outputs": [],
   "source": [
    "# function definiton\n",
    "def greet():\n",
    "    print(\"Welcome\") \n",
    "    \n",
    "# parameter-less"
   ]
  },
  {
   "cell_type": "code",
   "execution_count": 4,
   "metadata": {},
   "outputs": [
    {
     "name": "stdout",
     "output_type": "stream",
     "text": [
      "Welcome\n"
     ]
    }
   ],
   "source": [
    "# function call\n",
    "greet()"
   ]
  },
  {
   "cell_type": "code",
   "execution_count": null,
   "metadata": {},
   "outputs": [],
   "source": [
    "greet(\"Nabeel\")"
   ]
  },
  {
   "cell_type": "markdown",
   "metadata": {},
   "source": [
    "###  Parameters and Arguments"
   ]
  },
  {
   "cell_type": "markdown",
   "metadata": {},
   "source": [
    "Parameters and arguments are used to pass data to functions.\n",
    "\n",
    "- Parameter: The variable inside the function definition.\n",
    "- Argument: The actual value you pass when calling the function."
   ]
  },
  {
   "cell_type": "code",
   "execution_count": 36,
   "metadata": {},
   "outputs": [],
   "source": [
    "def greet_user(name):# parameter\n",
    "    print(f\"Welcome {name}\")"
   ]
  },
  {
   "cell_type": "code",
   "execution_count": 38,
   "metadata": {},
   "outputs": [
    {
     "name": "stdout",
     "output_type": "stream",
     "text": [
      "Welcome Nabeel\n"
     ]
    }
   ],
   "source": [
    "greet_user(\"Nabeel\") # argument"
   ]
  },
  {
   "cell_type": "code",
   "execution_count": 64,
   "metadata": {},
   "outputs": [],
   "source": [
    "# Function that capitalizes the string\n",
    "\n",
    "def capitalize_string(string): # parameter\n",
    "    print (string.upper())\n"
   ]
  },
  {
   "cell_type": "code",
   "execution_count": 65,
   "metadata": {},
   "outputs": [
    {
     "name": "stdout",
     "output_type": "stream",
     "text": [
      "NABEEL\n"
     ]
    }
   ],
   "source": [
    "# Calling the function\n",
    "capitalize_string(\"Nabeel\") # argument\n"
   ]
  },
  {
   "cell_type": "markdown",
   "metadata": {},
   "source": [
    "Task: Write a function that tells how many characters, words and sentences are there in a given paragraph"
   ]
  },
  {
   "cell_type": "code",
   "execution_count": 16,
   "metadata": {},
   "outputs": [],
   "source": [
    "# write a function that tells how many characters, \n",
    "# words and sentences are there in a given paragraph\n",
    "def text_counts(txt):\n",
    "    chars_count = len(txt)\n",
    "    words_count =len(txt.split())\n",
    "    sents_count = len(txt.split('.'))-1\n",
    "    print(f\"\"\"\n",
    "       words : {words_count}\n",
    "       sentence: {sents_count}\n",
    "       char:   : {chars_count}\n",
    "    \"\"\")"
   ]
  },
  {
   "cell_type": "code",
   "execution_count": 17,
   "metadata": {},
   "outputs": [
    {
     "name": "stdout",
     "output_type": "stream",
     "text": [
      "\n",
      "       words : 12\n",
      "       sentence: 2\n",
      "       char:   : 51\n",
      "    \n"
     ]
    }
   ],
   "source": [
    "text_counts(\"I am a text for counting. I am a text for counting.\")"
   ]
  },
  {
   "cell_type": "code",
   "execution_count": 14,
   "metadata": {},
   "outputs": [
    {
     "data": {
      "text/plain": [
       "['I am a text for counting', ' I am a text for counting', '']"
      ]
     },
     "execution_count": 14,
     "metadata": {},
     "output_type": "execute_result"
    }
   ],
   "source": [
    "\"I am a text for counting. I am a text for counting.\".split('.')"
   ]
  },
  {
   "cell_type": "code",
   "execution_count": 15,
   "metadata": {},
   "outputs": [
    {
     "data": {
      "text/plain": [
       "2"
      ]
     },
     "execution_count": 15,
     "metadata": {},
     "output_type": "execute_result"
    }
   ],
   "source": [
    "\n",
    "len(\"I am a text for counting. I am a text for counting.\".split('.'))-1"
   ]
  },
  {
   "cell_type": "code",
   "execution_count": 24,
   "metadata": {},
   "outputs": [],
   "source": [
    "# Calculator function\n",
    "\n",
    "def calc (num1,num2,opr):    \n",
    "    if opr == '+':\n",
    "        print(num1+num2)\n",
    "    elif opr == '-':\n",
    "        print(num1-num2)\n",
    "    elif opr == '*':\n",
    "        print(num1*num2)\n",
    "    elif (opr == '/'):\n",
    "        if num2!=0:\n",
    "            print(num1/num2)\n",
    "        else:\n",
    "            print(\"Divide by Zeero not allowed\")\n",
    "    else:\n",
    "        print(\"Operation not supported\")"
   ]
  },
  {
   "cell_type": "code",
   "execution_count": 22,
   "metadata": {},
   "outputs": [
    {
     "name": "stdout",
     "output_type": "stream",
     "text": [
      "9\n"
     ]
    }
   ],
   "source": [
    "calc(4,5,'+')"
   ]
  },
  {
   "cell_type": "markdown",
   "metadata": {},
   "source": [
    "### Types of Arguments"
   ]
  },
  {
   "cell_type": "markdown",
   "metadata": {},
   "source": [
    "Positional Arguments:\n",
    "- The most common type of arguments.\n",
    "- The order of arguments matters."
   ]
  },
  {
   "cell_type": "code",
   "execution_count": 62,
   "metadata": {},
   "outputs": [
    {
     "name": "stdout",
     "output_type": "stream",
     "text": [
      "I have a dog named Buddy.\n"
     ]
    }
   ],
   "source": [
    "def describe_pet(animal, pet_name):\n",
    "    print(f\"I have a {animal} named {pet_name}.\")\n",
    "\n",
    "describe_pet(\"dog\", \"Buddy\")\n"
   ]
  },
  {
   "cell_type": "markdown",
   "metadata": {},
   "source": [
    "Keyword Arguments:\n",
    "- Use keywords to specify arguments explicitly.\n",
    "- The order doesn’t matter."
   ]
  },
  {
   "cell_type": "code",
   "execution_count": 57,
   "metadata": {},
   "outputs": [
    {
     "name": "stdout",
     "output_type": "stream",
     "text": [
      "I have a cat named Whiskers.\n"
     ]
    }
   ],
   "source": [
    "describe_pet(pet_name=\"Whiskers\", animal=\"cat\")\n"
   ]
  },
  {
   "cell_type": "markdown",
   "metadata": {},
   "source": [
    "Default Arguments:\n",
    "- Assign a default value to a parameter.\n",
    "- If an argument is not provided, the default value is used.\n"
   ]
  },
  {
   "cell_type": "code",
   "execution_count": 58,
   "metadata": {},
   "outputs": [
    {
     "name": "stdout",
     "output_type": "stream",
     "text": [
      "I have a dog named Charlie.\n"
     ]
    }
   ],
   "source": [
    "def describe_pet_def(pet_name, animal=\"dog\"):\n",
    "    print(f\"I have a {animal} named {pet_name}.\")\n",
    "\n",
    "describe_pet_def(\"Charlie\")  # Uses the default value for 'animal'\n"
   ]
  },
  {
   "cell_type": "code",
   "execution_count": 60,
   "metadata": {},
   "outputs": [
    {
     "name": "stdout",
     "output_type": "stream",
     "text": [
      "I have a dog named charlie.\n"
     ]
    }
   ],
   "source": [
    "describe_pet_def(\"charlie\")"
   ]
  },
  {
   "cell_type": "markdown",
   "metadata": {},
   "source": [
    "## Return "
   ]
  },
  {
   "cell_type": "code",
   "execution_count": 61,
   "metadata": {},
   "outputs": [
    {
     "name": "stdout",
     "output_type": "stream",
     "text": [
      "Sum: 12\n"
     ]
    }
   ],
   "source": [
    "def add_numbers(a, b):\n",
    "    return a + b\n",
    "\n",
    "# Store the result in a variable\n",
    "result = add_numbers(5, 7)\n",
    "print(\"Sum:\", result)\n"
   ]
  },
  {
   "cell_type": "markdown",
   "metadata": {},
   "source": [
    "Examples"
   ]
  },
  {
   "cell_type": "code",
   "execution_count": 25,
   "metadata": {},
   "outputs": [],
   "source": [
    "def discount_calc(bill_amt):\n",
    "    if bill_amt > 30000:\n",
    "        discount = bill_amt*.30\n",
    "    elif bill_amt > 25000:\n",
    "        discount = bill_amt*.25        \n",
    "    elif bill_amt > 20000:\n",
    "        discount = bill_amt*.20\n",
    "    elif bill_amt > 15000:\n",
    "        discount = bill_amt*.15\n",
    "    elif bill_amt > 10000:\n",
    "        discount = bill_amt*.10        \n",
    "    else:\n",
    "        discount = bill_amt*0\n",
    "    return discount    "
   ]
  },
  {
   "cell_type": "code",
   "execution_count": 29,
   "metadata": {},
   "outputs": [
    {
     "name": "stdout",
     "output_type": "stream",
     "text": [
      "Discounted Amount is:  15000.0\n"
     ]
    }
   ],
   "source": [
    "discount = discount_calc(50000)\n",
    "print(\"Discounted Amount is: \", discount)"
   ]
  },
  {
   "cell_type": "code",
   "execution_count": 26,
   "metadata": {},
   "outputs": [],
   "source": [
    "store_items = {\"rice\":3000 ,\"oil\":500,\"water\":100, \"choclate\":100, \"fairnlovely\":200,\n",
    "              \"mobile\":5000 ,\"ghee\":5000,\"milk\":250, \"biscuit\":1000, \"pulses\":400,\n",
    "              \"soap\":300, \"bottle\":15000,\"surf\":1100, \"tea\":1600, \"phnyle\":200}\n",
    "def store():  \n",
    "    amt = 0\n",
    "    cart = []\n",
    "    while True:\n",
    "        order = input(\"Enter order item or q to quit: \").lower()\n",
    "        if order != \"q\":\n",
    "            if order in store_items.keys():\n",
    "                if (amt+store_items[order]) < 50000:                \n",
    "                    amt+=store_items[order]                \n",
    "                    cart.append(order) \n",
    "                    print(cart)\n",
    "                    print(amt)\n",
    "                else:\n",
    "                    print(cart)\n",
    "                    print(amt)\n",
    "                    print(\"Your bill amt exceed the limit\")\n",
    "                    \n",
    "                    return cart, amt, discount_calc(amt)  \n",
    "            else:\n",
    "                print(f\"{order} not in our store\")\n",
    "                print(cart)\n",
    "                print(amt)\n",
    "                continue       \n",
    "        else:\n",
    "            break\n",
    "    return cart, amt,discount_calc(amt)  "
   ]
  },
  {
   "cell_type": "code",
   "execution_count": 32,
   "metadata": {},
   "outputs": [
    {
     "name": "stdout",
     "output_type": "stream",
     "text": [
      "['bottle']\n",
      "15000\n",
      "['bottle'] 15000 1500.0\n"
     ]
    }
   ],
   "source": [
    "cart, amt, discount = store()\n",
    "print(cart, amt, discount)"
   ]
  },
  {
   "cell_type": "code",
   "execution_count": 33,
   "metadata": {},
   "outputs": [
    {
     "name": "stdout",
     "output_type": "stream",
     "text": [
      "['rice']\n",
      "3000\n",
      "['rice', 'bottle']\n",
      "18000\n",
      "\n",
      "            ABC General Store \n",
      "            ___________________\n",
      "    Cart: ['rice', 'bottle']\n",
      "    Amount: 18000\n",
      "    Discount: 2700.0\n",
      "    \n",
      "    Total_Bill : 15300.0\n",
      "\n",
      "\n",
      "      Thanks for shopping!\n",
      "\n",
      "\n"
     ]
    }
   ],
   "source": [
    "cart, amt, dis = store()\n",
    "print(f'''\n",
    "            ABC General Store \n",
    "            ___________________\n",
    "    Cart: {cart}\n",
    "    Amount: {amt}\n",
    "    Discount: {dis}\n",
    "    \n",
    "    Total_Bill : { amt-dis}\n",
    "\n",
    "\n",
    "      Thanks for shopping!\n",
    "\n",
    "''')"
   ]
  }
 ],
 "metadata": {
  "kernelspec": {
   "display_name": "Python 3",
   "language": "python",
   "name": "python3"
  },
  "language_info": {
   "codemirror_mode": {
    "name": "ipython",
    "version": 3
   },
   "file_extension": ".py",
   "mimetype": "text/x-python",
   "name": "python",
   "nbconvert_exporter": "python",
   "pygments_lexer": "ipython3",
   "version": "3.12.2"
  }
 },
 "nbformat": 4,
 "nbformat_minor": 2
}
