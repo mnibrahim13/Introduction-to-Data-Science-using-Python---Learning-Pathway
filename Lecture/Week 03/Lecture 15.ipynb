{
 "cells": [
  {
   "cell_type": "markdown",
   "metadata": {},
   "source": [
    "### Taks 01"
   ]
  },
  {
   "cell_type": "markdown",
   "metadata": {},
   "source": [
    "Write a Python function named word_frequency(sentence) that takes a sentence as input and returns a dictionary where each word in the sentence is a key, and the value is the number of times the word appears in the sentence."
   ]
  },
  {
   "cell_type": "markdown",
   "metadata": {},
   "source": [
    "### Task 02"
   ]
  },
  {
   "cell_type": "markdown",
   "metadata": {},
   "source": [
    "Write a Python program that:\n",
    "\n",
    "- Takes a list of temperatures in Celsius as input.\n",
    "- Converts the temperatures to Fahrenheit using a function celsius_to_fahrenheit(celsius).\n",
    "- Uses list comprehension to convert all temperatures.\n",
    "- Prints the highest and lowest temperature in both Celsius and Fahrenheit."
   ]
  },
  {
   "cell_type": "markdown",
   "metadata": {},
   "source": [
    "### Task 03"
   ]
  },
  {
   "cell_type": "markdown",
   "metadata": {},
   "source": [
    "Write a function named check_password_strength(password) that takes a password as input and returns one of three strings: \"Weak\", \"Moderate\", or \"Strong\" based on the following rules:\n",
    "\n",
    "- Weak: Password is less than 8 characters.\n",
    "- Moderate: Password is at least 8 characters, but contains only letters.\n",
    "- Strong: Password is at least 8 characters and contains a mix of letters, numbers, and special characters."
   ]
  },
  {
   "cell_type": "markdown",
   "metadata": {},
   "source": [
    "### Task 04"
   ]
  },
  {
   "cell_type": "markdown",
   "metadata": {},
   "source": [
    "Create a library book lending system where you maintain a dictionary of books available in a library. Each book has a quantity representing how many copies of the book are available. Write a program with a function named manage_library()"
   ]
  },
  {
   "cell_type": "markdown",
   "metadata": {},
   "source": []
  }
 ],
 "metadata": {
  "language_info": {
   "name": "python"
  }
 },
 "nbformat": 4,
 "nbformat_minor": 2
}
