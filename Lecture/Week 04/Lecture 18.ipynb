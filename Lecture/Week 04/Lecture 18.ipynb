{
 "cells": [
  {
   "cell_type": "markdown",
   "metadata": {},
   "source": [
    "# Introduction to Pandas"
   ]
  },
  {
   "cell_type": "markdown",
   "metadata": {},
   "source": [
    "Pandas is a powerful open-source Python library for data manipulation and analysis. It is one of the most popular libraries used in data science and machine learning. Pandas provides two main data structures:\n",
    "\n",
    "- Series: A one-dimensional array-like object.\n",
    "- DataFrame: A two-dimensional, tabular data structure with labeled axes (rows and columns)."
   ]
  },
  {
   "cell_type": "markdown",
   "metadata": {},
   "source": [
    "Pandas makes it easy to:\n",
    "\n",
    "- Load and explore data.\n",
    "- Clean and transform data.\n",
    "- Perform statistical analysis."
   ]
  },
  {
   "cell_type": "markdown",
   "metadata": {},
   "source": [
    "## Installing and Importing Pandas"
   ]
  },
  {
   "cell_type": "code",
   "execution_count": 2,
   "metadata": {},
   "outputs": [],
   "source": [
    "#!pip install pandas Install Pandas (if not already installed)\n",
    "import pandas as pd"
   ]
  },
  {
   "cell_type": "markdown",
   "metadata": {},
   "source": [
    "## Pandas Data Structures"
   ]
  },
  {
   "cell_type": "markdown",
   "metadata": {},
   "source": [
    "### Pandas Series\n",
    "A Series is like a column in an Excel spreadsheet or a one-dimensional array. It can hold data of any type.\n",
    "\n",
    "- Designed for data manipulation and analysis.\n",
    "- More useful when working with labeled data or data that requires an index (e.g., time series data).\n",
    "- Ideal for working with data where you need to apply filtering, aggregation, or statistical operations."
   ]
  },
  {
   "cell_type": "code",
   "execution_count": 7,
   "metadata": {},
   "outputs": [
    {
     "name": "stdout",
     "output_type": "stream",
     "text": [
      "Pandas Series:\n",
      "0    10\n",
      "1    20\n",
      "2    30\n",
      "3    40\n",
      "4    50\n",
      "dtype: int32\n"
     ]
    }
   ],
   "source": [
    "# Creating a Series from a list\n",
    "data = [10, 20, 30, 40, 50]\n",
    "series = pd.Series(data, dtype='int')\n",
    "\n",
    "print(\"Pandas Series:\")\n",
    "print(series)\n"
   ]
  },
  {
   "cell_type": "markdown",
   "metadata": {},
   "source": [
    "The left-hand side represents the index (starting from 0).\n",
    "The right-hand side represents the values in the Series."
   ]
  },
  {
   "cell_type": "code",
   "execution_count": 4,
   "metadata": {},
   "outputs": [
    {
     "data": {
      "text/plain": [
       "0    Muhammad\n",
       "1      Nabeel\n",
       "2     Ibrahim\n",
       "3        Khan\n",
       "dtype: object"
      ]
     },
     "execution_count": 4,
     "metadata": {},
     "output_type": "execute_result"
    }
   ],
   "source": [
    "s1 = pd.Series(['Muhammad', 'Nabeel', 'Ibrahim','Khan'])\n",
    "s1"
   ]
  },
  {
   "cell_type": "code",
   "execution_count": 8,
   "metadata": {},
   "outputs": [
    {
     "data": {
      "text/plain": [
       "'Ibrahim'"
      ]
     },
     "execution_count": 8,
     "metadata": {},
     "output_type": "execute_result"
    }
   ],
   "source": [
    "# Accessing Elements from series \n",
    "s1[2]"
   ]
  },
  {
   "cell_type": "code",
   "execution_count": 9,
   "metadata": {},
   "outputs": [
    {
     "name": "stdout",
     "output_type": "stream",
     "text": [
      "<class 'pandas.core.series.Series'>\n"
     ]
    }
   ],
   "source": [
    "print(type(s1))"
   ]
  },
  {
   "cell_type": "code",
   "execution_count": 10,
   "metadata": {},
   "outputs": [],
   "source": [
    "s2 = pd.Series([12,24,36,12,6,12,24], index=['apples','oranges','bananas', 'samosas','rolls', 'chickens', 'coldrinks'])\n",
    "# labels / string indices / costomize index"
   ]
  },
  {
   "cell_type": "code",
   "execution_count": 11,
   "metadata": {},
   "outputs": [
    {
     "data": {
      "text/plain": [
       "Index(['apples', 'oranges', 'bananas', 'samosas', 'rolls', 'chickens',\n",
       "       'coldrinks'],\n",
       "      dtype='object')"
      ]
     },
     "execution_count": 11,
     "metadata": {},
     "output_type": "execute_result"
    }
   ],
   "source": [
    "s2.index"
   ]
  },
  {
   "cell_type": "code",
   "execution_count": 12,
   "metadata": {},
   "outputs": [
    {
     "data": {
      "text/plain": [
       "array([12, 24, 36, 12,  6, 12, 24], dtype=int64)"
      ]
     },
     "execution_count": 12,
     "metadata": {},
     "output_type": "execute_result"
    }
   ],
   "source": [
    "s2.values"
   ]
  },
  {
   "cell_type": "code",
   "execution_count": 13,
   "metadata": {},
   "outputs": [
    {
     "data": {
      "text/plain": [
       "12"
      ]
     },
     "execution_count": 13,
     "metadata": {},
     "output_type": "execute_result"
    }
   ],
   "source": [
    "s2['apples']"
   ]
  },
  {
   "cell_type": "code",
   "execution_count": 17,
   "metadata": {},
   "outputs": [
    {
     "name": "stderr",
     "output_type": "stream",
     "text": [
      "C:\\Users\\Administrator\\AppData\\Local\\Temp\\ipykernel_19044\\2344841457.py:1: FutureWarning: Series.__getitem__ treating keys as positions is deprecated. In a future version, integer keys will always be treated as labels (consistent with DataFrame behavior). To access a value by position, use `ser.iloc[pos]`\n",
      "  s2[0]\n"
     ]
    },
    {
     "data": {
      "text/plain": [
       "12"
      ]
     },
     "execution_count": 17,
     "metadata": {},
     "output_type": "execute_result"
    }
   ],
   "source": [
    "s2[0]"
   ]
  },
  {
   "cell_type": "code",
   "execution_count": 14,
   "metadata": {},
   "outputs": [
    {
     "data": {
      "text/plain": [
       "apples       24\n",
       "oranges      48\n",
       "bananas      72\n",
       "samosas      24\n",
       "rolls        12\n",
       "chickens     24\n",
       "coldrinks    48\n",
       "dtype: int64"
      ]
     },
     "execution_count": 14,
     "metadata": {},
     "output_type": "execute_result"
    }
   ],
   "source": [
    "s2*2"
   ]
  },
  {
   "cell_type": "markdown",
   "metadata": {},
   "source": [
    "### Pandas DataFrame\n",
    "\n",
    "A DataFrame is a two-dimensional data structure, similar to an Excel spreadsheet or SQL table. It consists of rows and columns, where each column can be a different data type."
   ]
  },
  {
   "cell_type": "code",
   "execution_count": 42,
   "metadata": {},
   "outputs": [
    {
     "name": "stdout",
     "output_type": "stream",
     "text": [
      "Pandas DataFrame:\n"
     ]
    },
    {
     "data": {
      "text/html": [
       "<div>\n",
       "<style scoped>\n",
       "    .dataframe tbody tr th:only-of-type {\n",
       "        vertical-align: middle;\n",
       "    }\n",
       "\n",
       "    .dataframe tbody tr th {\n",
       "        vertical-align: top;\n",
       "    }\n",
       "\n",
       "    .dataframe thead th {\n",
       "        text-align: right;\n",
       "    }\n",
       "</style>\n",
       "<table border=\"1\" class=\"dataframe\">\n",
       "  <thead>\n",
       "    <tr style=\"text-align: right;\">\n",
       "      <th></th>\n",
       "      <th>Name</th>\n",
       "      <th>Age</th>\n",
       "      <th>City</th>\n",
       "    </tr>\n",
       "  </thead>\n",
       "  <tbody>\n",
       "    <tr>\n",
       "      <th>0</th>\n",
       "      <td>Alice</td>\n",
       "      <td>25</td>\n",
       "      <td>New York</td>\n",
       "    </tr>\n",
       "    <tr>\n",
       "      <th>1</th>\n",
       "      <td>Bob</td>\n",
       "      <td>30</td>\n",
       "      <td>San Francisco</td>\n",
       "    </tr>\n",
       "    <tr>\n",
       "      <th>2</th>\n",
       "      <td>Charlie</td>\n",
       "      <td>35</td>\n",
       "      <td>Los Angeles</td>\n",
       "    </tr>\n",
       "  </tbody>\n",
       "</table>\n",
       "</div>"
      ],
      "text/plain": [
       "      Name  Age           City\n",
       "0    Alice   25       New York\n",
       "1      Bob   30  San Francisco\n",
       "2  Charlie   35    Los Angeles"
      ]
     },
     "execution_count": 42,
     "metadata": {},
     "output_type": "execute_result"
    }
   ],
   "source": [
    "# Creating a DataFrame from a dictionary\n",
    "data = {\n",
    "    'Name': ['Alice', 'Bob', 'Charlie'],\n",
    "    'Age': [25, 30, 35],\n",
    "    'City': ['New York', 'San Francisco', 'Los Angeles']\n",
    "}\n",
    "df = pd.DataFrame(data)\n",
    "\n",
    "print(\"Pandas DataFrame:\")\n",
    "df\n"
   ]
  },
  {
   "cell_type": "markdown",
   "metadata": {},
   "source": [
    "Each key in the dictionary represents a column name.\n",
    "Each value is a list that forms the data in that column."
   ]
  },
  {
   "cell_type": "code",
   "execution_count": 43,
   "metadata": {},
   "outputs": [
    {
     "data": {
      "text/html": [
       "<div>\n",
       "<style scoped>\n",
       "    .dataframe tbody tr th:only-of-type {\n",
       "        vertical-align: middle;\n",
       "    }\n",
       "\n",
       "    .dataframe tbody tr th {\n",
       "        vertical-align: top;\n",
       "    }\n",
       "\n",
       "    .dataframe thead th {\n",
       "        text-align: right;\n",
       "    }\n",
       "</style>\n",
       "<table border=\"1\" class=\"dataframe\">\n",
       "  <thead>\n",
       "    <tr style=\"text-align: right;\">\n",
       "      <th></th>\n",
       "      <th>name</th>\n",
       "      <th>roll</th>\n",
       "      <th>python</th>\n",
       "      <th>excel</th>\n",
       "      <th>power_bi</th>\n",
       "      <th>pandas</th>\n",
       "      <th>machine_learning</th>\n",
       "      <th>statistics</th>\n",
       "    </tr>\n",
       "  </thead>\n",
       "  <tbody>\n",
       "    <tr>\n",
       "      <th>0</th>\n",
       "      <td>Alpha</td>\n",
       "      <td>11</td>\n",
       "      <td>78</td>\n",
       "      <td>89</td>\n",
       "      <td>45</td>\n",
       "      <td>81</td>\n",
       "      <td>96</td>\n",
       "      <td>67</td>\n",
       "    </tr>\n",
       "    <tr>\n",
       "      <th>1</th>\n",
       "      <td>Bravo</td>\n",
       "      <td>22</td>\n",
       "      <td>67</td>\n",
       "      <td>87</td>\n",
       "      <td>67</td>\n",
       "      <td>85</td>\n",
       "      <td>95</td>\n",
       "      <td>48</td>\n",
       "    </tr>\n",
       "    <tr>\n",
       "      <th>2</th>\n",
       "      <td>Charlie</td>\n",
       "      <td>33</td>\n",
       "      <td>89</td>\n",
       "      <td>67</td>\n",
       "      <td>89</td>\n",
       "      <td>89</td>\n",
       "      <td>84</td>\n",
       "      <td>45</td>\n",
       "    </tr>\n",
       "    <tr>\n",
       "      <th>3</th>\n",
       "      <td>Delta</td>\n",
       "      <td>44</td>\n",
       "      <td>90</td>\n",
       "      <td>74</td>\n",
       "      <td>87</td>\n",
       "      <td>87</td>\n",
       "      <td>85</td>\n",
       "      <td>98</td>\n",
       "    </tr>\n",
       "    <tr>\n",
       "      <th>4</th>\n",
       "      <td>Echo</td>\n",
       "      <td>55</td>\n",
       "      <td>91</td>\n",
       "      <td>78</td>\n",
       "      <td>67</td>\n",
       "      <td>41</td>\n",
       "      <td>82</td>\n",
       "      <td>75</td>\n",
       "    </tr>\n",
       "    <tr>\n",
       "      <th>5</th>\n",
       "      <td>Foxtrot</td>\n",
       "      <td>66</td>\n",
       "      <td>72</td>\n",
       "      <td>90</td>\n",
       "      <td>90</td>\n",
       "      <td>45</td>\n",
       "      <td>81</td>\n",
       "      <td>71</td>\n",
       "    </tr>\n",
       "    <tr>\n",
       "      <th>6</th>\n",
       "      <td>Golf</td>\n",
       "      <td>77</td>\n",
       "      <td>76</td>\n",
       "      <td>76</td>\n",
       "      <td>65</td>\n",
       "      <td>96</td>\n",
       "      <td>74</td>\n",
       "      <td>70</td>\n",
       "    </tr>\n",
       "    <tr>\n",
       "      <th>7</th>\n",
       "      <td>Hotel</td>\n",
       "      <td>88</td>\n",
       "      <td>89</td>\n",
       "      <td>78</td>\n",
       "      <td>67</td>\n",
       "      <td>56</td>\n",
       "      <td>75</td>\n",
       "      <td>60</td>\n",
       "    </tr>\n",
       "    <tr>\n",
       "      <th>8</th>\n",
       "      <td>India</td>\n",
       "      <td>99</td>\n",
       "      <td>67</td>\n",
       "      <td>90</td>\n",
       "      <td>56</td>\n",
       "      <td>93</td>\n",
       "      <td>96</td>\n",
       "      <td>90</td>\n",
       "    </tr>\n",
       "    <tr>\n",
       "      <th>9</th>\n",
       "      <td>Juliet</td>\n",
       "      <td>111</td>\n",
       "      <td>85</td>\n",
       "      <td>54</td>\n",
       "      <td>90</td>\n",
       "      <td>78</td>\n",
       "      <td>90</td>\n",
       "      <td>93</td>\n",
       "    </tr>\n",
       "  </tbody>\n",
       "</table>\n",
       "</div>"
      ],
      "text/plain": [
       "      name  roll  python  excel  power_bi  pandas  machine_learning  \\\n",
       "0    Alpha    11      78     89        45      81                96   \n",
       "1    Bravo    22      67     87        67      85                95   \n",
       "2  Charlie    33      89     67        89      89                84   \n",
       "3    Delta    44      90     74        87      87                85   \n",
       "4     Echo    55      91     78        67      41                82   \n",
       "5  Foxtrot    66      72     90        90      45                81   \n",
       "6     Golf    77      76     76        65      96                74   \n",
       "7    Hotel    88      89     78        67      56                75   \n",
       "8    India    99      67     90        56      93                96   \n",
       "9   Juliet   111      85     54        90      78                90   \n",
       "\n",
       "   statistics  \n",
       "0          67  \n",
       "1          48  \n",
       "2          45  \n",
       "3          98  \n",
       "4          75  \n",
       "5          71  \n",
       "6          70  \n",
       "7          60  \n",
       "8          90  \n",
       "9          93  "
      ]
     },
     "execution_count": 43,
     "metadata": {},
     "output_type": "execute_result"
    }
   ],
   "source": [
    "# Creating a data frame\n",
    "result = {'name':          ['Alpha','Bravo', 'Charlie','Delta','Echo','Foxtrot','Golf','Hotel','India','Juliet'],\n",
    "          'roll':          [11,22,33,44,55,66,77,88,99,111],\n",
    "          'python':        [78,67,89,90,91,72,76,89,67,85],\n",
    "          'excel':         [89,87,67,74,78,90,76,78,90,54],\n",
    "           'power_bi':     [45,67,89,87,67,90,65,67,56,90],\n",
    "          'pandas':        [81,85,89,87,41,45,96,56,93,78],\n",
    "        'machine_learning':[96,95,84,85,82,81,74,75,96,90],\n",
    "         'statistics':     [67,48,45,98,75,71,70,60,90,93]}\n",
    "\n",
    "df1 = pd.DataFrame(result)\n",
    "df1\n"
   ]
  },
  {
   "cell_type": "code",
   "execution_count": 44,
   "metadata": {},
   "outputs": [
    {
     "data": {
      "text/plain": [
       "pandas.core.frame.DataFrame"
      ]
     },
     "execution_count": 44,
     "metadata": {},
     "output_type": "execute_result"
    }
   ],
   "source": [
    "type(df)"
   ]
  },
  {
   "cell_type": "markdown",
   "metadata": {},
   "source": [
    "Basic DataFrame Operations"
   ]
  },
  {
   "cell_type": "code",
   "execution_count": 45,
   "metadata": {},
   "outputs": [
    {
     "name": "stdout",
     "output_type": "stream",
     "text": [
      "Shape of DataFrame: (3, 3)\n",
      "\n",
      "Summary statistics:\n",
      "        Age\n",
      "count   3.0\n",
      "mean   30.0\n",
      "std     5.0\n",
      "min    25.0\n",
      "25%    27.5\n",
      "50%    30.0\n",
      "75%    32.5\n",
      "max    35.0\n"
     ]
    }
   ],
   "source": [
    "# Basic operations\n",
    "print(\"Shape of DataFrame:\", df.shape)\n",
    "print(\"\\nSummary statistics:\")\n",
    "print(df.describe())\n"
   ]
  },
  {
   "cell_type": "code",
   "execution_count": 48,
   "metadata": {},
   "outputs": [
    {
     "name": "stdout",
     "output_type": "stream",
     "text": [
      "Shape of DataFrame: (10, 8)\n",
      "\n",
      "Summary statistics:\n",
      "             roll    python      excel   power_bi     pandas  \\\n",
      "count   10.000000  10.00000  10.000000  10.000000  10.000000   \n",
      "mean    60.600000  80.40000  78.300000  72.300000  75.100000   \n",
      "std     33.470385   9.59398  11.576317  15.881855  20.184978   \n",
      "min     11.000000  67.00000  54.000000  45.000000  41.000000   \n",
      "25%     35.750000  73.00000  74.500000  65.500000  61.500000   \n",
      "50%     60.500000  81.50000  78.000000  67.000000  83.000000   \n",
      "75%     85.250000  89.00000  88.500000  88.500000  88.500000   \n",
      "max    111.000000  91.00000  90.000000  90.000000  96.000000   \n",
      "\n",
      "       machine_learning  statistics  \n",
      "count         10.000000   10.000000  \n",
      "mean          85.800000   71.700000  \n",
      "std            8.216515   18.037307  \n",
      "min           74.000000   45.000000  \n",
      "25%           81.250000   61.750000  \n",
      "50%           84.500000   70.500000  \n",
      "75%           93.750000   86.250000  \n",
      "max           96.000000   98.000000  \n"
     ]
    }
   ],
   "source": [
    "# Basic operations\n",
    "# df.head(): Displays the first few rows of the DataFrame.\n",
    "# df.tail(): Displays the last few rows.\n",
    "# df.shape: Shows the number of rows and columns.\n",
    "# df.columns: Displays the column names.\n",
    "# df.describe(): Generates summary statistics for numerical columns.\n",
    "\n",
    "print(\"Shape of DataFrame:\", df1.shape)\n",
    "print(\"\\nSummary statistics:\")\n",
    "print(df1.describe())\n"
   ]
  },
  {
   "cell_type": "code",
   "execution_count": 49,
   "metadata": {},
   "outputs": [
    {
     "data": {
      "text/html": [
       "<div>\n",
       "<style scoped>\n",
       "    .dataframe tbody tr th:only-of-type {\n",
       "        vertical-align: middle;\n",
       "    }\n",
       "\n",
       "    .dataframe tbody tr th {\n",
       "        vertical-align: top;\n",
       "    }\n",
       "\n",
       "    .dataframe thead th {\n",
       "        text-align: right;\n",
       "    }\n",
       "</style>\n",
       "<table border=\"1\" class=\"dataframe\">\n",
       "  <thead>\n",
       "    <tr style=\"text-align: right;\">\n",
       "      <th></th>\n",
       "      <th>name</th>\n",
       "      <th>roll</th>\n",
       "      <th>python</th>\n",
       "      <th>excel</th>\n",
       "      <th>power_bi</th>\n",
       "      <th>pandas</th>\n",
       "      <th>machine_learning</th>\n",
       "      <th>statistics</th>\n",
       "    </tr>\n",
       "  </thead>\n",
       "  <tbody>\n",
       "    <tr>\n",
       "      <th>3</th>\n",
       "      <td>Delta</td>\n",
       "      <td>44</td>\n",
       "      <td>90</td>\n",
       "      <td>74</td>\n",
       "      <td>87</td>\n",
       "      <td>87</td>\n",
       "      <td>85</td>\n",
       "      <td>98</td>\n",
       "    </tr>\n",
       "  </tbody>\n",
       "</table>\n",
       "</div>"
      ],
      "text/plain": [
       "    name  roll  python  excel  power_bi  pandas  machine_learning  statistics\n",
       "3  Delta    44      90     74        87      87                85          98"
      ]
     },
     "execution_count": 49,
     "metadata": {},
     "output_type": "execute_result"
    }
   ],
   "source": [
    "df1.sample()"
   ]
  },
  {
   "cell_type": "code",
   "execution_count": 50,
   "metadata": {},
   "outputs": [
    {
     "data": {
      "text/plain": [
       "Index(['name', 'roll', 'python', 'excel', 'power_bi', 'pandas',\n",
       "       'machine_learning', 'statistics'],\n",
       "      dtype='object')"
      ]
     },
     "execution_count": 50,
     "metadata": {},
     "output_type": "execute_result"
    }
   ],
   "source": [
    "df1.columns"
   ]
  },
  {
   "cell_type": "code",
   "execution_count": 51,
   "metadata": {},
   "outputs": [
    {
     "data": {
      "text/plain": [
       "Index(['Name', 'Roll', 'Python', 'Excel', 'Power_bi', 'Pandas',\n",
       "       'Machine_learning', 'Statistics'],\n",
       "      dtype='object')"
      ]
     },
     "execution_count": 51,
     "metadata": {},
     "output_type": "execute_result"
    }
   ],
   "source": [
    "df1.columns = ['Name','Roll','Python','Excel','Power_bi','Pandas','Machine_learning','Statistics']\n",
    "df1.columns"
   ]
  },
  {
   "cell_type": "code",
   "execution_count": 52,
   "metadata": {},
   "outputs": [
    {
     "data": {
      "text/html": [
       "<div>\n",
       "<style scoped>\n",
       "    .dataframe tbody tr th:only-of-type {\n",
       "        vertical-align: middle;\n",
       "    }\n",
       "\n",
       "    .dataframe tbody tr th {\n",
       "        vertical-align: top;\n",
       "    }\n",
       "\n",
       "    .dataframe thead th {\n",
       "        text-align: right;\n",
       "    }\n",
       "</style>\n",
       "<table border=\"1\" class=\"dataframe\">\n",
       "  <thead>\n",
       "    <tr style=\"text-align: right;\">\n",
       "      <th></th>\n",
       "      <th>Name</th>\n",
       "      <th>Roll</th>\n",
       "      <th>Python</th>\n",
       "      <th>Excel</th>\n",
       "      <th>Power_bi</th>\n",
       "      <th>Pandas</th>\n",
       "      <th>Machine_learning</th>\n",
       "      <th>Statistics</th>\n",
       "    </tr>\n",
       "  </thead>\n",
       "  <tbody>\n",
       "    <tr>\n",
       "      <th>0</th>\n",
       "      <td>Alpha</td>\n",
       "      <td>11</td>\n",
       "      <td>78</td>\n",
       "      <td>89</td>\n",
       "      <td>45</td>\n",
       "      <td>81</td>\n",
       "      <td>96</td>\n",
       "      <td>67</td>\n",
       "    </tr>\n",
       "    <tr>\n",
       "      <th>1</th>\n",
       "      <td>Bravo</td>\n",
       "      <td>22</td>\n",
       "      <td>67</td>\n",
       "      <td>87</td>\n",
       "      <td>67</td>\n",
       "      <td>85</td>\n",
       "      <td>95</td>\n",
       "      <td>48</td>\n",
       "    </tr>\n",
       "    <tr>\n",
       "      <th>2</th>\n",
       "      <td>Charlie</td>\n",
       "      <td>33</td>\n",
       "      <td>89</td>\n",
       "      <td>67</td>\n",
       "      <td>89</td>\n",
       "      <td>89</td>\n",
       "      <td>84</td>\n",
       "      <td>45</td>\n",
       "    </tr>\n",
       "    <tr>\n",
       "      <th>3</th>\n",
       "      <td>Delta</td>\n",
       "      <td>44</td>\n",
       "      <td>90</td>\n",
       "      <td>74</td>\n",
       "      <td>87</td>\n",
       "      <td>87</td>\n",
       "      <td>85</td>\n",
       "      <td>98</td>\n",
       "    </tr>\n",
       "    <tr>\n",
       "      <th>4</th>\n",
       "      <td>Echo</td>\n",
       "      <td>55</td>\n",
       "      <td>91</td>\n",
       "      <td>78</td>\n",
       "      <td>67</td>\n",
       "      <td>41</td>\n",
       "      <td>82</td>\n",
       "      <td>75</td>\n",
       "    </tr>\n",
       "    <tr>\n",
       "      <th>5</th>\n",
       "      <td>Foxtrot</td>\n",
       "      <td>66</td>\n",
       "      <td>72</td>\n",
       "      <td>90</td>\n",
       "      <td>90</td>\n",
       "      <td>45</td>\n",
       "      <td>81</td>\n",
       "      <td>71</td>\n",
       "    </tr>\n",
       "    <tr>\n",
       "      <th>6</th>\n",
       "      <td>Golf</td>\n",
       "      <td>77</td>\n",
       "      <td>76</td>\n",
       "      <td>76</td>\n",
       "      <td>65</td>\n",
       "      <td>96</td>\n",
       "      <td>74</td>\n",
       "      <td>70</td>\n",
       "    </tr>\n",
       "    <tr>\n",
       "      <th>7</th>\n",
       "      <td>Hotel</td>\n",
       "      <td>88</td>\n",
       "      <td>89</td>\n",
       "      <td>78</td>\n",
       "      <td>67</td>\n",
       "      <td>56</td>\n",
       "      <td>75</td>\n",
       "      <td>60</td>\n",
       "    </tr>\n",
       "    <tr>\n",
       "      <th>8</th>\n",
       "      <td>India</td>\n",
       "      <td>99</td>\n",
       "      <td>67</td>\n",
       "      <td>90</td>\n",
       "      <td>56</td>\n",
       "      <td>93</td>\n",
       "      <td>96</td>\n",
       "      <td>90</td>\n",
       "    </tr>\n",
       "    <tr>\n",
       "      <th>9</th>\n",
       "      <td>Juliet</td>\n",
       "      <td>111</td>\n",
       "      <td>85</td>\n",
       "      <td>54</td>\n",
       "      <td>90</td>\n",
       "      <td>78</td>\n",
       "      <td>90</td>\n",
       "      <td>93</td>\n",
       "    </tr>\n",
       "  </tbody>\n",
       "</table>\n",
       "</div>"
      ],
      "text/plain": [
       "      Name  Roll  Python  Excel  Power_bi  Pandas  Machine_learning  \\\n",
       "0    Alpha    11      78     89        45      81                96   \n",
       "1    Bravo    22      67     87        67      85                95   \n",
       "2  Charlie    33      89     67        89      89                84   \n",
       "3    Delta    44      90     74        87      87                85   \n",
       "4     Echo    55      91     78        67      41                82   \n",
       "5  Foxtrot    66      72     90        90      45                81   \n",
       "6     Golf    77      76     76        65      96                74   \n",
       "7    Hotel    88      89     78        67      56                75   \n",
       "8    India    99      67     90        56      93                96   \n",
       "9   Juliet   111      85     54        90      78                90   \n",
       "\n",
       "   Statistics  \n",
       "0          67  \n",
       "1          48  \n",
       "2          45  \n",
       "3          98  \n",
       "4          75  \n",
       "5          71  \n",
       "6          70  \n",
       "7          60  \n",
       "8          90  \n",
       "9          93  "
      ]
     },
     "execution_count": 52,
     "metadata": {},
     "output_type": "execute_result"
    }
   ],
   "source": [
    "df1"
   ]
  },
  {
   "cell_type": "code",
   "execution_count": 53,
   "metadata": {},
   "outputs": [
    {
     "data": {
      "text/html": [
       "<div>\n",
       "<style scoped>\n",
       "    .dataframe tbody tr th:only-of-type {\n",
       "        vertical-align: middle;\n",
       "    }\n",
       "\n",
       "    .dataframe tbody tr th {\n",
       "        vertical-align: top;\n",
       "    }\n",
       "\n",
       "    .dataframe thead th {\n",
       "        text-align: right;\n",
       "    }\n",
       "</style>\n",
       "<table border=\"1\" class=\"dataframe\">\n",
       "  <thead>\n",
       "    <tr style=\"text-align: right;\">\n",
       "      <th></th>\n",
       "      <th>Name</th>\n",
       "      <th>Id</th>\n",
       "      <th>Python</th>\n",
       "      <th>Excel</th>\n",
       "      <th>Power_bi</th>\n",
       "      <th>Pandas</th>\n",
       "      <th>Machine_learning</th>\n",
       "      <th>Stats</th>\n",
       "    </tr>\n",
       "  </thead>\n",
       "  <tbody>\n",
       "    <tr>\n",
       "      <th>0</th>\n",
       "      <td>Alpha</td>\n",
       "      <td>11</td>\n",
       "      <td>78</td>\n",
       "      <td>89</td>\n",
       "      <td>45</td>\n",
       "      <td>81</td>\n",
       "      <td>96</td>\n",
       "      <td>67</td>\n",
       "    </tr>\n",
       "    <tr>\n",
       "      <th>1</th>\n",
       "      <td>Bravo</td>\n",
       "      <td>22</td>\n",
       "      <td>67</td>\n",
       "      <td>87</td>\n",
       "      <td>67</td>\n",
       "      <td>85</td>\n",
       "      <td>95</td>\n",
       "      <td>48</td>\n",
       "    </tr>\n",
       "    <tr>\n",
       "      <th>2</th>\n",
       "      <td>Charlie</td>\n",
       "      <td>33</td>\n",
       "      <td>89</td>\n",
       "      <td>67</td>\n",
       "      <td>89</td>\n",
       "      <td>89</td>\n",
       "      <td>84</td>\n",
       "      <td>45</td>\n",
       "    </tr>\n",
       "    <tr>\n",
       "      <th>3</th>\n",
       "      <td>Delta</td>\n",
       "      <td>44</td>\n",
       "      <td>90</td>\n",
       "      <td>74</td>\n",
       "      <td>87</td>\n",
       "      <td>87</td>\n",
       "      <td>85</td>\n",
       "      <td>98</td>\n",
       "    </tr>\n",
       "    <tr>\n",
       "      <th>4</th>\n",
       "      <td>Echo</td>\n",
       "      <td>55</td>\n",
       "      <td>91</td>\n",
       "      <td>78</td>\n",
       "      <td>67</td>\n",
       "      <td>41</td>\n",
       "      <td>82</td>\n",
       "      <td>75</td>\n",
       "    </tr>\n",
       "    <tr>\n",
       "      <th>5</th>\n",
       "      <td>Foxtrot</td>\n",
       "      <td>66</td>\n",
       "      <td>72</td>\n",
       "      <td>90</td>\n",
       "      <td>90</td>\n",
       "      <td>45</td>\n",
       "      <td>81</td>\n",
       "      <td>71</td>\n",
       "    </tr>\n",
       "    <tr>\n",
       "      <th>6</th>\n",
       "      <td>Golf</td>\n",
       "      <td>77</td>\n",
       "      <td>76</td>\n",
       "      <td>76</td>\n",
       "      <td>65</td>\n",
       "      <td>96</td>\n",
       "      <td>74</td>\n",
       "      <td>70</td>\n",
       "    </tr>\n",
       "    <tr>\n",
       "      <th>7</th>\n",
       "      <td>Hotel</td>\n",
       "      <td>88</td>\n",
       "      <td>89</td>\n",
       "      <td>78</td>\n",
       "      <td>67</td>\n",
       "      <td>56</td>\n",
       "      <td>75</td>\n",
       "      <td>60</td>\n",
       "    </tr>\n",
       "    <tr>\n",
       "      <th>8</th>\n",
       "      <td>India</td>\n",
       "      <td>99</td>\n",
       "      <td>67</td>\n",
       "      <td>90</td>\n",
       "      <td>56</td>\n",
       "      <td>93</td>\n",
       "      <td>96</td>\n",
       "      <td>90</td>\n",
       "    </tr>\n",
       "    <tr>\n",
       "      <th>9</th>\n",
       "      <td>Juliet</td>\n",
       "      <td>111</td>\n",
       "      <td>85</td>\n",
       "      <td>54</td>\n",
       "      <td>90</td>\n",
       "      <td>78</td>\n",
       "      <td>90</td>\n",
       "      <td>93</td>\n",
       "    </tr>\n",
       "  </tbody>\n",
       "</table>\n",
       "</div>"
      ],
      "text/plain": [
       "      Name   Id  Python  Excel  Power_bi  Pandas  Machine_learning  Stats\n",
       "0    Alpha   11      78     89        45      81                96     67\n",
       "1    Bravo   22      67     87        67      85                95     48\n",
       "2  Charlie   33      89     67        89      89                84     45\n",
       "3    Delta   44      90     74        87      87                85     98\n",
       "4     Echo   55      91     78        67      41                82     75\n",
       "5  Foxtrot   66      72     90        90      45                81     71\n",
       "6     Golf   77      76     76        65      96                74     70\n",
       "7    Hotel   88      89     78        67      56                75     60\n",
       "8    India   99      67     90        56      93                96     90\n",
       "9   Juliet  111      85     54        90      78                90     93"
      ]
     },
     "execution_count": 53,
     "metadata": {},
     "output_type": "execute_result"
    }
   ],
   "source": [
    "df1.rename(columns={'Roll':'Id', 'Statistics':\"Stats\"})\n"
   ]
  },
  {
   "cell_type": "code",
   "execution_count": 54,
   "metadata": {},
   "outputs": [
    {
     "data": {
      "text/html": [
       "<div>\n",
       "<style scoped>\n",
       "    .dataframe tbody tr th:only-of-type {\n",
       "        vertical-align: middle;\n",
       "    }\n",
       "\n",
       "    .dataframe tbody tr th {\n",
       "        vertical-align: top;\n",
       "    }\n",
       "\n",
       "    .dataframe thead th {\n",
       "        text-align: right;\n",
       "    }\n",
       "</style>\n",
       "<table border=\"1\" class=\"dataframe\">\n",
       "  <thead>\n",
       "    <tr style=\"text-align: right;\">\n",
       "      <th></th>\n",
       "      <th>Name</th>\n",
       "      <th>Roll</th>\n",
       "      <th>Python</th>\n",
       "      <th>Excel</th>\n",
       "      <th>Power_bi</th>\n",
       "      <th>Pandas</th>\n",
       "      <th>Machine_learning</th>\n",
       "      <th>Statistics</th>\n",
       "    </tr>\n",
       "  </thead>\n",
       "  <tbody>\n",
       "    <tr>\n",
       "      <th>0</th>\n",
       "      <td>Alpha</td>\n",
       "      <td>11</td>\n",
       "      <td>78</td>\n",
       "      <td>89</td>\n",
       "      <td>45</td>\n",
       "      <td>81</td>\n",
       "      <td>96</td>\n",
       "      <td>67</td>\n",
       "    </tr>\n",
       "    <tr>\n",
       "      <th>1</th>\n",
       "      <td>Bravo</td>\n",
       "      <td>22</td>\n",
       "      <td>67</td>\n",
       "      <td>87</td>\n",
       "      <td>67</td>\n",
       "      <td>85</td>\n",
       "      <td>95</td>\n",
       "      <td>48</td>\n",
       "    </tr>\n",
       "    <tr>\n",
       "      <th>2</th>\n",
       "      <td>Charlie</td>\n",
       "      <td>33</td>\n",
       "      <td>89</td>\n",
       "      <td>67</td>\n",
       "      <td>89</td>\n",
       "      <td>89</td>\n",
       "      <td>84</td>\n",
       "      <td>45</td>\n",
       "    </tr>\n",
       "    <tr>\n",
       "      <th>3</th>\n",
       "      <td>Delta</td>\n",
       "      <td>44</td>\n",
       "      <td>90</td>\n",
       "      <td>74</td>\n",
       "      <td>87</td>\n",
       "      <td>87</td>\n",
       "      <td>85</td>\n",
       "      <td>98</td>\n",
       "    </tr>\n",
       "    <tr>\n",
       "      <th>4</th>\n",
       "      <td>Echo</td>\n",
       "      <td>55</td>\n",
       "      <td>91</td>\n",
       "      <td>78</td>\n",
       "      <td>67</td>\n",
       "      <td>41</td>\n",
       "      <td>82</td>\n",
       "      <td>75</td>\n",
       "    </tr>\n",
       "    <tr>\n",
       "      <th>5</th>\n",
       "      <td>Foxtrot</td>\n",
       "      <td>66</td>\n",
       "      <td>72</td>\n",
       "      <td>90</td>\n",
       "      <td>90</td>\n",
       "      <td>45</td>\n",
       "      <td>81</td>\n",
       "      <td>71</td>\n",
       "    </tr>\n",
       "    <tr>\n",
       "      <th>6</th>\n",
       "      <td>Golf</td>\n",
       "      <td>77</td>\n",
       "      <td>76</td>\n",
       "      <td>76</td>\n",
       "      <td>65</td>\n",
       "      <td>96</td>\n",
       "      <td>74</td>\n",
       "      <td>70</td>\n",
       "    </tr>\n",
       "    <tr>\n",
       "      <th>7</th>\n",
       "      <td>Hotel</td>\n",
       "      <td>88</td>\n",
       "      <td>89</td>\n",
       "      <td>78</td>\n",
       "      <td>67</td>\n",
       "      <td>56</td>\n",
       "      <td>75</td>\n",
       "      <td>60</td>\n",
       "    </tr>\n",
       "    <tr>\n",
       "      <th>8</th>\n",
       "      <td>India</td>\n",
       "      <td>99</td>\n",
       "      <td>67</td>\n",
       "      <td>90</td>\n",
       "      <td>56</td>\n",
       "      <td>93</td>\n",
       "      <td>96</td>\n",
       "      <td>90</td>\n",
       "    </tr>\n",
       "    <tr>\n",
       "      <th>9</th>\n",
       "      <td>Juliet</td>\n",
       "      <td>111</td>\n",
       "      <td>85</td>\n",
       "      <td>54</td>\n",
       "      <td>90</td>\n",
       "      <td>78</td>\n",
       "      <td>90</td>\n",
       "      <td>93</td>\n",
       "    </tr>\n",
       "  </tbody>\n",
       "</table>\n",
       "</div>"
      ],
      "text/plain": [
       "      Name  Roll  Python  Excel  Power_bi  Pandas  Machine_learning  \\\n",
       "0    Alpha    11      78     89        45      81                96   \n",
       "1    Bravo    22      67     87        67      85                95   \n",
       "2  Charlie    33      89     67        89      89                84   \n",
       "3    Delta    44      90     74        87      87                85   \n",
       "4     Echo    55      91     78        67      41                82   \n",
       "5  Foxtrot    66      72     90        90      45                81   \n",
       "6     Golf    77      76     76        65      96                74   \n",
       "7    Hotel    88      89     78        67      56                75   \n",
       "8    India    99      67     90        56      93                96   \n",
       "9   Juliet   111      85     54        90      78                90   \n",
       "\n",
       "   Statistics  \n",
       "0          67  \n",
       "1          48  \n",
       "2          45  \n",
       "3          98  \n",
       "4          75  \n",
       "5          71  \n",
       "6          70  \n",
       "7          60  \n",
       "8          90  \n",
       "9          93  "
      ]
     },
     "execution_count": 54,
     "metadata": {},
     "output_type": "execute_result"
    }
   ],
   "source": [
    "df1"
   ]
  },
  {
   "cell_type": "code",
   "execution_count": 55,
   "metadata": {},
   "outputs": [],
   "source": [
    "df1.rename(columns={'Roll':'Id', 'Statistics':\"Stats\"},inplace=True)"
   ]
  },
  {
   "cell_type": "code",
   "execution_count": 56,
   "metadata": {},
   "outputs": [
    {
     "data": {
      "text/html": [
       "<div>\n",
       "<style scoped>\n",
       "    .dataframe tbody tr th:only-of-type {\n",
       "        vertical-align: middle;\n",
       "    }\n",
       "\n",
       "    .dataframe tbody tr th {\n",
       "        vertical-align: top;\n",
       "    }\n",
       "\n",
       "    .dataframe thead th {\n",
       "        text-align: right;\n",
       "    }\n",
       "</style>\n",
       "<table border=\"1\" class=\"dataframe\">\n",
       "  <thead>\n",
       "    <tr style=\"text-align: right;\">\n",
       "      <th></th>\n",
       "      <th>Name</th>\n",
       "      <th>Id</th>\n",
       "      <th>Python</th>\n",
       "      <th>Excel</th>\n",
       "      <th>Power_bi</th>\n",
       "      <th>Pandas</th>\n",
       "      <th>Machine_learning</th>\n",
       "      <th>Stats</th>\n",
       "    </tr>\n",
       "  </thead>\n",
       "  <tbody>\n",
       "    <tr>\n",
       "      <th>0</th>\n",
       "      <td>Alpha</td>\n",
       "      <td>11</td>\n",
       "      <td>78</td>\n",
       "      <td>89</td>\n",
       "      <td>45</td>\n",
       "      <td>81</td>\n",
       "      <td>96</td>\n",
       "      <td>67</td>\n",
       "    </tr>\n",
       "    <tr>\n",
       "      <th>1</th>\n",
       "      <td>Bravo</td>\n",
       "      <td>22</td>\n",
       "      <td>67</td>\n",
       "      <td>87</td>\n",
       "      <td>67</td>\n",
       "      <td>85</td>\n",
       "      <td>95</td>\n",
       "      <td>48</td>\n",
       "    </tr>\n",
       "    <tr>\n",
       "      <th>2</th>\n",
       "      <td>Charlie</td>\n",
       "      <td>33</td>\n",
       "      <td>89</td>\n",
       "      <td>67</td>\n",
       "      <td>89</td>\n",
       "      <td>89</td>\n",
       "      <td>84</td>\n",
       "      <td>45</td>\n",
       "    </tr>\n",
       "    <tr>\n",
       "      <th>3</th>\n",
       "      <td>Delta</td>\n",
       "      <td>44</td>\n",
       "      <td>90</td>\n",
       "      <td>74</td>\n",
       "      <td>87</td>\n",
       "      <td>87</td>\n",
       "      <td>85</td>\n",
       "      <td>98</td>\n",
       "    </tr>\n",
       "    <tr>\n",
       "      <th>4</th>\n",
       "      <td>Echo</td>\n",
       "      <td>55</td>\n",
       "      <td>91</td>\n",
       "      <td>78</td>\n",
       "      <td>67</td>\n",
       "      <td>41</td>\n",
       "      <td>82</td>\n",
       "      <td>75</td>\n",
       "    </tr>\n",
       "    <tr>\n",
       "      <th>5</th>\n",
       "      <td>Foxtrot</td>\n",
       "      <td>66</td>\n",
       "      <td>72</td>\n",
       "      <td>90</td>\n",
       "      <td>90</td>\n",
       "      <td>45</td>\n",
       "      <td>81</td>\n",
       "      <td>71</td>\n",
       "    </tr>\n",
       "    <tr>\n",
       "      <th>6</th>\n",
       "      <td>Golf</td>\n",
       "      <td>77</td>\n",
       "      <td>76</td>\n",
       "      <td>76</td>\n",
       "      <td>65</td>\n",
       "      <td>96</td>\n",
       "      <td>74</td>\n",
       "      <td>70</td>\n",
       "    </tr>\n",
       "    <tr>\n",
       "      <th>7</th>\n",
       "      <td>Hotel</td>\n",
       "      <td>88</td>\n",
       "      <td>89</td>\n",
       "      <td>78</td>\n",
       "      <td>67</td>\n",
       "      <td>56</td>\n",
       "      <td>75</td>\n",
       "      <td>60</td>\n",
       "    </tr>\n",
       "    <tr>\n",
       "      <th>8</th>\n",
       "      <td>India</td>\n",
       "      <td>99</td>\n",
       "      <td>67</td>\n",
       "      <td>90</td>\n",
       "      <td>56</td>\n",
       "      <td>93</td>\n",
       "      <td>96</td>\n",
       "      <td>90</td>\n",
       "    </tr>\n",
       "    <tr>\n",
       "      <th>9</th>\n",
       "      <td>Juliet</td>\n",
       "      <td>111</td>\n",
       "      <td>85</td>\n",
       "      <td>54</td>\n",
       "      <td>90</td>\n",
       "      <td>78</td>\n",
       "      <td>90</td>\n",
       "      <td>93</td>\n",
       "    </tr>\n",
       "  </tbody>\n",
       "</table>\n",
       "</div>"
      ],
      "text/plain": [
       "      Name   Id  Python  Excel  Power_bi  Pandas  Machine_learning  Stats\n",
       "0    Alpha   11      78     89        45      81                96     67\n",
       "1    Bravo   22      67     87        67      85                95     48\n",
       "2  Charlie   33      89     67        89      89                84     45\n",
       "3    Delta   44      90     74        87      87                85     98\n",
       "4     Echo   55      91     78        67      41                82     75\n",
       "5  Foxtrot   66      72     90        90      45                81     71\n",
       "6     Golf   77      76     76        65      96                74     70\n",
       "7    Hotel   88      89     78        67      56                75     60\n",
       "8    India   99      67     90        56      93                96     90\n",
       "9   Juliet  111      85     54        90      78                90     93"
      ]
     },
     "execution_count": 56,
     "metadata": {},
     "output_type": "execute_result"
    }
   ],
   "source": [
    "df1"
   ]
  },
  {
   "cell_type": "markdown",
   "metadata": {},
   "source": [
    "Selecting Data in a DataFrame"
   ]
  },
  {
   "cell_type": "code",
   "execution_count": 57,
   "metadata": {},
   "outputs": [
    {
     "name": "stdout",
     "output_type": "stream",
     "text": [
      "Ages of individuals:\n",
      "0    25\n",
      "1    30\n",
      "2    35\n",
      "Name: Age, dtype: int64\n"
     ]
    }
   ],
   "source": [
    "# Selecting a specific column\n",
    "ages = df['Age']\n",
    "print(\"Ages of individuals:\")\n",
    "print(ages)\n"
   ]
  },
  {
   "cell_type": "code",
   "execution_count": 58,
   "metadata": {},
   "outputs": [
    {
     "name": "stdout",
     "output_type": "stream",
     "text": [
      "Individuals with Age greater than 30:\n",
      "      Name  Age         City\n",
      "2  Charlie   35  Los Angeles\n"
     ]
    }
   ],
   "source": [
    "# Selecting rows where Age is greater than 30\n",
    "older_people = df[df['Age'] > 30]\n",
    "print(\"Individuals with Age greater than 30:\")\n",
    "print(older_people)\n"
   ]
  },
  {
   "cell_type": "markdown",
   "metadata": {},
   "source": [
    "Adding, Modifying, and Removing Data"
   ]
  },
  {
   "cell_type": "code",
   "execution_count": 63,
   "metadata": {},
   "outputs": [
    {
     "name": "stdout",
     "output_type": "stream",
     "text": [
      "DataFrame with Salary column added:\n",
      "      Name  Age           City  Salary\n",
      "0    Alice   26       New York   50000\n",
      "1      Bob   31  San Francisco   60000\n",
      "2  Charlie   36    Los Angeles   70000\n"
     ]
    }
   ],
   "source": [
    "# Adding a new column\n",
    "df['Salary'] = [50000, 60000, 70000]\n",
    "print(\"DataFrame with Salary column added:\")\n",
    "print(df)\n"
   ]
  },
  {
   "cell_type": "code",
   "execution_count": 64,
   "metadata": {},
   "outputs": [
    {
     "name": "stdout",
     "output_type": "stream",
     "text": [
      "Updated Ages:\n",
      "      Name  Age           City  Salary\n",
      "0    Alice   27       New York   50000\n",
      "1      Bob   32  San Francisco   60000\n",
      "2  Charlie   37    Los Angeles   70000\n"
     ]
    }
   ],
   "source": [
    "# Modifying the values of the 'Age' column\n",
    "df['Age'] = df['Age'] + 1\n",
    "print(\"Updated Ages:\")\n",
    "print(df)\n"
   ]
  },
  {
   "cell_type": "code",
   "execution_count": 65,
   "metadata": {},
   "outputs": [
    {
     "name": "stdout",
     "output_type": "stream",
     "text": [
      "DataFrame after removing Salary column:\n",
      "      Name  Age           City\n",
      "0    Alice   27       New York\n",
      "1      Bob   32  San Francisco\n",
      "2  Charlie   37    Los Angeles\n"
     ]
    }
   ],
   "source": [
    "# # Removing a column\n",
    "\n",
    "# The axis parameter specifies whether you want to remove rows or columns.\n",
    "    # axis=0 refers to rows.\n",
    "    # axis=1 refers to columns.\n",
    "# Without specifying axis=1, Pandas would assume you're trying to drop a row (since axis=0 is the default for many operations\n",
    "df = df.drop('Salary', axis=1)\n",
    "print(\"DataFrame after removing Salary column:\")\n",
    "print(df)\n"
   ]
  },
  {
   "cell_type": "code",
   "execution_count": 66,
   "metadata": {},
   "outputs": [
    {
     "name": "stdout",
     "output_type": "stream",
     "text": [
      "      Name  Age         City\n",
      "0    Alice   27     New York\n",
      "2  Charlie   37  Los Angeles\n"
     ]
    }
   ],
   "source": [
    "# Dropping a row (row index 1)\n",
    "df = df.drop(1, axis=0)\n",
    "\n",
    "print(df)\n"
   ]
  },
  {
   "cell_type": "code",
   "execution_count": null,
   "metadata": {},
   "outputs": [],
   "source": []
  }
 ],
 "metadata": {
  "kernelspec": {
   "display_name": "base",
   "language": "python",
   "name": "python3"
  },
  "language_info": {
   "codemirror_mode": {
    "name": "ipython",
    "version": 3
   },
   "file_extension": ".py",
   "mimetype": "text/x-python",
   "name": "python",
   "nbconvert_exporter": "python",
   "pygments_lexer": "ipython3",
   "version": "3.12.4"
  }
 },
 "nbformat": 4,
 "nbformat_minor": 2
}
