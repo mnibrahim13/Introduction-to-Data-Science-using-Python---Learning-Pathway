{
 "cells": [
  {
   "cell_type": "markdown",
   "id": "34ef6e6b",
   "metadata": {},
   "source": [
    "# **Introduction to Anaconda and Python Fundamentals**"
   ]
  },
  {
   "cell_type": "markdown",
   "id": "ad914a0a",
   "metadata": {},
   "source": [
    "## **What is Anaconda?**\n",
    "Anaconda is a distribution of Python and R programming languages for scientific computing. It simplifies package management and deployment.\n",
    "\n",
    "It comes with many popular data science packages pre-installed, including Jupyter Notebook, NumPy, Pandas, and Matplotlib.\n",
    "\n",
    "### How to Use Anaconda:\n",
    "- **Install Anaconda**: Download and install from the official website.\n",
    "- **Launch Jupyter Notebook**: Use Anaconda Navigator or terminal (`jupyter notebook`) to launch the Jupyter environment where you will write Python code.\n",
    "- **Install Packages**: Use the Anaconda prompt or Navigator to install packages, e.g., `conda install pandas`.\n",
    "\n"
   ]
  },
  {
   "cell_type": "markdown",
   "id": "5d637992",
   "metadata": {},
   "source": [
    "### Lets first Discuss Jupyter Notebook"
   ]
  },
  {
   "cell_type": "markdown",
   "id": "3827cd4b",
   "metadata": {},
   "source": [
    "### Markdown vs Headings\n",
    "https://www.ibm.com/docs/en/watson-studio-local/1.2.3?topic=notebooks-markdown-jupyter-cheatsheet"
   ]
  },
  {
   "cell_type": "markdown",
   "id": "61754830",
   "metadata": {},
   "source": [
    "### Lets Keep on Adding stuff here....................................................."
   ]
  },
  {
   "cell_type": "markdown",
   "id": "a622408d",
   "metadata": {},
   "source": [
    "# Let’s begin by running a few basic Python commands in Jupyter Notebook."
   ]
  },
  {
   "cell_type": "code",
   "execution_count": 9,
   "id": "d9a031b4",
   "metadata": {},
   "outputs": [
    {
     "name": "stdout",
     "output_type": "stream",
     "text": [
      "Hello, Data Science with Anaconda!\n"
     ]
    }
   ],
   "source": [
    "print(\"Hello, Data Science with Anaconda!\")"
   ]
  },
  {
   "cell_type": "markdown",
   "id": "2284854b",
   "metadata": {},
   "source": [
    "## **Introduction to Python**\n",
    "Python is a widely-used, general-purpose programming language known for its simplicity and readability. In this lecture, we will cover the following Python fundamentals:\n",
    "1. Basic Syntax\n",
    "2. Variables and Data Types\n",
    "3. Arithmetic Operations\n",
    "\n",
    "### Let's start by understanding Python's syntax and writing some basic code."
   ]
  },
  {
   "cell_type": "markdown",
   "id": "d8df9bee",
   "metadata": {},
   "source": [
    "### **1. Python Basic Syntax**\n",
    "Python syntax is simple and clean. Python programs are made up of statements, expressions, and comments. Unlike other programming languages, Python uses indentation to define blocks of code.\n",
    "\n",
    "**Examples:**"
   ]
  },
  {
   "cell_type": "code",
   "execution_count": 10,
   "id": "a8dd5694",
   "metadata": {},
   "outputs": [
    {
     "name": "stdout",
     "output_type": "stream",
     "text": [
      "Hello, World!\n",
      "This is Python!\n"
     ]
    }
   ],
   "source": [
    "print(\"Hello, World!\")  # Printing a message\n",
    "print(\"This is Python!\")  # Another example"
   ]
  },
  {
   "cell_type": "code",
   "execution_count": 11,
   "id": "fc283e22",
   "metadata": {},
   "outputs": [
    {
     "name": "stdout",
     "output_type": "stream",
     "text": [
      "Hello Python 123 34.5 False\n",
      "\n",
      "\n",
      "\n",
      "\n",
      "Another line in printing\n"
     ]
    }
   ],
   "source": [
    "print(\"Hello Python\", 123, 34.5, False,end=\"\\n\\n\\n\\n\\n\")\n",
    "print(\"Another line in printing\")"
   ]
  },
  {
   "cell_type": "code",
   "execution_count": 12,
   "id": "8dbb38cc",
   "metadata": {},
   "outputs": [
    {
     "name": "stdout",
     "output_type": "stream",
     "text": [
      "Hello Python---123---34.5---False\n",
      "\n",
      "\n",
      "\n",
      "\n",
      "Another line in printing\n"
     ]
    }
   ],
   "source": [
    "print(\"Hello Python\", 123, 34.5, False,sep=\"---\",end=\"\\n\\n\\n\\n\\n\")\n",
    "print(\"Another line in printing\")\n"
   ]
  },
  {
   "cell_type": "markdown",
   "id": "3d0f43b9",
   "metadata": {},
   "source": [
    "### **Exercise 1:**\n",
    "Write a Python program that prints your name and your favorite hobby."
   ]
  },
  {
   "cell_type": "markdown",
   "id": "10377f99",
   "metadata": {},
   "source": [
    "### **2. Variables in Python**\n",
    "A variable is a container for storing data values. In Python, you don’t need to declare variables with a type. Python automatically infers the type based on the assigned value.\n",
    "\n",
    "**Examples:**"
   ]
  },
  {
   "cell_type": "code",
   "execution_count": 13,
   "id": "4490f63a",
   "metadata": {},
   "outputs": [
    {
     "name": "stdout",
     "output_type": "stream",
     "text": [
      "Name: Alice\n",
      "Age: 25\n"
     ]
    }
   ],
   "source": [
    "name = \"Alice\"\n",
    "age = 25\n",
    "print(\"Name:\", name)\n",
    "print(\"Age:\", age)"
   ]
  },
  {
   "cell_type": "code",
   "execution_count": null,
   "id": "58959f4d",
   "metadata": {},
   "outputs": [],
   "source": [
    "a = 10\n",
    "b = 5\n",
    "\n",
    "print(\"Numbers are\")"
   ]
  },
  {
   "cell_type": "markdown",
   "id": "1b5bb678",
   "metadata": {},
   "source": [
    "### **Exercise 2:**\n",
    "Create a variable called 'city' and assign your city name to it. Print the value of the variable.\n",
    "\n",
    "Create two variables, 'num1' and 'num2', assign them values, and print their sum."
   ]
  },
  {
   "cell_type": "markdown",
   "id": "e1d04a5c",
   "metadata": {},
   "source": [
    "### **3. Data Types in Python**\n",
    "Python has various built-in data types, such as integers, floats, strings, and booleans.\n",
    "**Examples:**"
   ]
  },
  {
   "cell_type": "code",
   "execution_count": 15,
   "id": "9024e438",
   "metadata": {},
   "outputs": [
    {
     "name": "stdout",
     "output_type": "stream",
     "text": [
      "x is of type <class 'int'>\n",
      "y is of type <class 'float'>\n",
      "z is of type <class 'str'>\n"
     ]
    }
   ],
   "source": [
    "x = 10\n",
    "print(\"x is of type\", type(x))\n",
    "\n",
    "y = 3.14\n",
    "print(\"y is of type\", type(y))\n",
    "\n",
    "z = \"Hello\"\n",
    "print(\"z is of type\", type(z))"
   ]
  },
  {
   "cell_type": "markdown",
   "id": "089ab380",
   "metadata": {},
   "source": [
    "### **Exercise 3:**\n",
    "Create a variable that stores your favorite quote and print the type of the variable."
   ]
  },
  {
   "cell_type": "markdown",
   "id": "da168e45",
   "metadata": {},
   "source": [
    "### **4. Arithmetic Operations in Python**\n",
    "Python supports basic arithmetic operations such as addition (`+`), subtraction (`-`), multiplication (`*`), and division (`/`).\n",
    "\n",
    "**Examples:**"
   ]
  },
  {
   "cell_type": "code",
   "execution_count": 16,
   "id": "d5e6e759",
   "metadata": {},
   "outputs": [
    {
     "name": "stdout",
     "output_type": "stream",
     "text": [
      "Addition: 19\n",
      "Subtraction: 11\n",
      "Multiplication: 60\n",
      "Division: 3.75\n"
     ]
    }
   ],
   "source": [
    "a = 15\n",
    "b = 4\n",
    "print(\"Addition:\", a + b)\n",
    "print(\"Subtraction:\", a - b)\n",
    "print(\"Multiplication:\", a * b)\n",
    "print(\"Division:\", a / b)"
   ]
  },
  {
   "cell_type": "code",
   "execution_count": 17,
   "id": "03a6042e",
   "metadata": {},
   "outputs": [
    {
     "name": "stdout",
     "output_type": "stream",
     "text": [
      "Total price with tax: 108.0\n"
     ]
    }
   ],
   "source": [
    "price = 100\n",
    "tax_rate = 0.08\n",
    "total_price = price + (price * tax_rate)\n",
    "print(\"Total price with tax:\", total_price)"
   ]
  },
  {
   "cell_type": "markdown",
   "id": "9635ef96",
   "metadata": {},
   "source": [
    "### **Exercise 4:**\n",
    "Write a Python program that calculates the area of a rectangle (width * height). Create two variables for width and height, and print the area."
   ]
  }
 ],
 "metadata": {
  "kernelspec": {
   "display_name": "Python 3 (ipykernel)",
   "language": "python",
   "name": "python3"
  },
  "language_info": {
   "codemirror_mode": {
    "name": "ipython",
    "version": 3
   },
   "file_extension": ".py",
   "mimetype": "text/x-python",
   "name": "python",
   "nbconvert_exporter": "python",
   "pygments_lexer": "ipython3",
   "version": "3.11.5"
  }
 },
 "nbformat": 4,
 "nbformat_minor": 5
}
